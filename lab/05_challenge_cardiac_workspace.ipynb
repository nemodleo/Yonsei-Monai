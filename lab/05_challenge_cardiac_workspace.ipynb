{
 "cells": [
  {
   "cell_type": "markdown",
   "metadata": {
    "id": "96ohkCyqZNaM"
   },
   "source": [
    "#  MONAI Bootcamp\n",
    "\n",
    "# Segmentation Exercise  [workspace]\n",
    "<img src=\"https://github.com/Project-MONAI/MONAIBootcamp2021/raw/2f28b64f814a03703667c8ea18cc84f53d6795e4/day1/monai.png\" width=400>\n",
    "\n",
    "\n",
    "In this exercise we will segment the left ventricle of the heart in relatively small images using neural networks. \n",
    "Below is the code for setting up a segmentation network and training it. The network isn't very good, **so the exercise is to improve the quality of the segmentation by improving the network and/or the training scheme including data loading efficiency and data augmentation**. \n",
    "\n",
    "The data being used here is derived from the [Sunnybrook Cardiac Dataset](https://www.cardiacatlas.org/studies/sunnybrook-cardiac-data/) of cardiac MR images, filtered to contain only left ventricular myocardium segmentations and reduced in the XY dimensions.\n",
    "\n",
    "<img src=\"https://www.cardiacatlas.org/wp-content/uploads/2015/09/scd-mri.png\" width=400>\n",
    "\n",
    " \n",
    "\n",
    " "
   ]
  },
  {
   "cell_type": "markdown",
   "metadata": {},
   "source": [
    "## 👉 Challenge: Improve Results and Implementation 👈\n",
    "\n",
    "### 1. Improve Data Pipeline\n",
    "\n",
    "The pipeline currently has a very basic set of transforms. We'd want to add new transforms which will add regularization to our training process, specifically modifying the image and segmentations to make the learning problem a little harder. \n",
    "\n",
    "The dataset being used is `ArrayDataset` but we have in MONAI `NPZDictItemDataset` for loading data from Numpy's NPZ file format. Change the code to use this class instead. You'll need a different way of getting `caseIndices` and splitting the dataset using it.\n",
    "\n",
    "### 2. Improve/Replace Network\n",
    "\n",
    "As you can see we're not getting good results from our network. The training loss values are jumping around and not decreasing much anymore. The validation score has topped out at 0.25, which is really poor. \n",
    "\n",
    "It's now up to you to improve the results of our segmentation task. The things to consider changing include the network itself, how data is loaded, how batches might be composed, and what transforms we want to use from MONAI. \n",
    "\n",
    "### 3. Replace The Training Loop\n",
    "\n",
    "This notebook uses a simple training loop with validation done explicitly. Replace this with a use of the `SupervisedTrainer` class and `SupervisedEvaluator` to do the evaluation throughout the training process. The graph plotting is done simply by recording values at each iteration through the loop, you'll want to use some other mechanism to do the same thing such as using a `MetricLogger` handler object."
   ]
  },
  {
   "cell_type": "markdown",
   "metadata": {
    "id": "p7pcbsphZh8G"
   },
   "source": [
    "### Check GPU Support\n",
    "\n",
    "Running  `!nvidia-smi` in a cell will verify this has worked and show you what kind of hardware you have access to.\n",
    "\n",
    "if GPU Memory Usage is no `0 MiB` shutdown all kernels and restart current kernel.\n",
    "- step1. shutdown kernel with following <b>Menu</b> > <b>Kernel</b> > <b>Shut Down All kernels </b>\n",
    "- step2. restart kernelw with following <b>Menu</b> > <b>Kernel</b> > <b>Restart Kernel</b>\n"
   ]
  },
  {
   "cell_type": "code",
   "execution_count": 1,
   "metadata": {
    "colab": {
     "base_uri": "https://localhost:8080/"
    },
    "id": "ZVD7911EVcWI",
    "outputId": "2783c3a4-855a-4b2b-86c0-297b7b31b9ce"
   },
   "outputs": [
    {
     "name": "stdout",
     "output_type": "stream",
     "text": [
      "Mon Nov  7 10:18:15 2022       \n",
      "+-----------------------------------------------------------------------------+\n",
      "| NVIDIA-SMI 515.65.01    Driver Version: 515.65.01    CUDA Version: 11.7     |\n",
      "|-------------------------------+----------------------+----------------------+\n",
      "| GPU  Name        Persistence-M| Bus-Id        Disp.A | Volatile Uncorr. ECC |\n",
      "| Fan  Temp  Perf  Pwr:Usage/Cap|         Memory-Usage | GPU-Util  Compute M. |\n",
      "|                               |                      |               MIG M. |\n",
      "|===============================+======================+======================|\n",
      "|   0  NVIDIA A100-SXM...  On   | 00000000:0F:00.0 Off |                   On |\n",
      "| N/A   30C    P0    77W / 400W |     39MiB / 81920MiB |     N/A      Default |\n",
      "|                               |                      |              Enabled |\n",
      "+-------------------------------+----------------------+----------------------+\n",
      "\n",
      "+-----------------------------------------------------------------------------+\n",
      "| MIG devices:                                                                |\n",
      "+------------------+----------------------+-----------+-----------------------+\n",
      "| GPU  GI  CI  MIG |         Memory-Usage |        Vol|         Shared        |\n",
      "|      ID  ID  Dev |           BAR1-Usage | SM     Unc| CE  ENC  DEC  OFA  JPG|\n",
      "|                  |                      |        ECC|                       |\n",
      "|==================+======================+===========+=======================|\n",
      "|  0    3   0   0  |     13MiB / 19968MiB | 28      0 |  2   0    1    0    0 |\n",
      "|                  |      0MiB / 32767MiB |           |                       |\n",
      "+------------------+----------------------+-----------+-----------------------+\n",
      "                                                                               \n",
      "+-----------------------------------------------------------------------------+\n",
      "| Processes:                                                                  |\n",
      "|  GPU   GI   CI        PID   Type   Process name                  GPU Memory |\n",
      "|        ID   ID                                                   Usage      |\n",
      "|=============================================================================|\n",
      "|  No running processes found                                                 |\n",
      "+-----------------------------------------------------------------------------+\n"
     ]
    }
   ],
   "source": [
    "!nvidia-smi"
   ]
  },
  {
   "cell_type": "markdown",
   "metadata": {
    "id": "aX4DkxZygKNP"
   },
   "source": [
    "### Setup imports"
   ]
  },
  {
   "cell_type": "code",
   "execution_count": 2,
   "metadata": {
    "colab": {
     "base_uri": "https://localhost:8080/"
    },
    "id": "pNnKTuzBgKZm",
    "outputId": "8b7c3607-768e-4222-d4c0-82806f5a1264"
   },
   "outputs": [],
   "source": [
    "import os\n",
    "from glob import glob\n",
    "\n",
    "import numpy as np\n",
    "import matplotlib.pyplot as plt\n",
    "import torch\n",
    "\n",
    "from urllib.request import urlopen\n",
    "from io import BytesIO\n",
    "\n",
    "import torch\n",
    "import torch.nn as nn\n",
    "import torch.nn.functional as F\n",
    "\n",
    "import numpy as np\n",
    "\n",
    "import matplotlib.pyplot as plt\n",
    "\n",
    "import monai\n",
    "from monai.transforms import Compose, AddChannel, ScaleIntensity, ToTensor\n",
    "from monai.losses import DiceLoss\n",
    "from monai.metrics import DiceMetric\n",
    "from monai.data import ArrayDataset\n",
    "from torch.utils.data import DataLoader\n",
    "from monai.utils import first, progress_bar\n",
    "from monai.networks import one_hot\n",
    "from monai.apps import download_and_extract\n",
    "from monai.config import print_config\n",
    "from monai.utils import set_determinism\n",
    "\n",
    "set_determinism(0)\n",
    "\n",
    "import warnings\n",
    "warnings.filterwarnings(\"ignore\", category=DeprecationWarning) \n",
    "warnings.filterwarnings(\"ignore\", category=UserWarning) "
   ]
  },
  {
   "cell_type": "markdown",
   "metadata": {},
   "source": [
    "## 1. Setting up our Dataset and exploring the data\n",
    "#### Setup data directory\n",
    "\n",
    "We'll create a temporary directory for all the MONAI data we're going to be using called temp directory in `~/monai-lab/temp`. "
   ]
  },
  {
   "cell_type": "code",
   "execution_count": 3,
   "metadata": {},
   "outputs": [
    {
     "name": "stdout",
     "output_type": "stream",
     "text": [
      "temp\n"
     ]
    }
   ],
   "source": [
    "import os \n",
    "import glob\n",
    "directory = \"temp\"\n",
    "if not os.path.exists(directory):\n",
    "    os.makedirs(directory)\n",
    "root_dir = tempfile.mkdtemp() if directory is None else directory\n",
    "print(root_dir)"
   ]
  },
  {
   "cell_type": "markdown",
   "metadata": {
    "id": "SpNZjqg3Lq-1"
   },
   "source": [
    "## download dataset \n",
    "\n",
    "We will use preprocessed Sunnybrook Cardiac MRI dataset (2MB) at  [VPH Summer SChool 2019](https://www.vph-institute.org/events/2019-vph-summer-school.html)\n",
    "\n",
    "You can check for further research\n",
    "- Sunnybrook Cardiac MRI dataset(30MB) in [kaggle](https://www.kaggle.com/datasets/salikhussaini49/sunnybrook-cardiac-mri)\n",
    "- Sunnybrook Cardiac Data DICOM file(2.6GB) at [Cardiac Atlas Project](https://www.cardiacatlas.org/studies/sunnybrook-cardiac-data/)"
   ]
  },
  {
   "cell_type": "code",
   "execution_count": 4,
   "metadata": {},
   "outputs": [],
   "source": [
    "device = torch.device(\"cuda:0\")\n",
    "DATA_NPZ = \"https://github.com/ericspod/VPHSummerSchool2019/raw/master/scd_lvsegs.npz\""
   ]
  },
  {
   "cell_type": "markdown",
   "metadata": {},
   "source": [
    "We now load the data from the remote source and visualize a sample:"
   ]
  },
  {
   "cell_type": "code",
   "execution_count": 5,
   "metadata": {},
   "outputs": [
    {
     "name": "stdout",
     "output_type": "stream",
     "text": [
      "CPU times: user 41.6 ms, sys: 4.56 ms, total: 46.2 ms\n",
      "Wall time: 703 ms\n"
     ]
    }
   ],
   "source": [
    "%%time\n",
    "remote_file = urlopen(DATA_NPZ)\n",
    "npz = BytesIO(remote_file.read())"
   ]
  },
  {
   "cell_type": "code",
   "execution_count": 6,
   "metadata": {},
   "outputs": [
    {
     "name": "stdout",
     "output_type": "stream",
     "text": [
      "(420, 64, 64) (420, 64, 64)\n"
     ]
    },
    {
     "data": {
      "text/plain": [
       "<matplotlib.image.AxesImage at 0x7f0c9e01eee0>"
      ]
     },
     "execution_count": 6,
     "metadata": {},
     "output_type": "execute_result"
    },
    {
     "data": {
      "image/png": "[encoded data removed]",
      "text/plain": [
       "<Figure size 432x288 with 1 Axes>"
      ]
     },
     "metadata": {
      "needs_background": "light"
     },
     "output_type": "display_data"
    }
   ],
   "source": [
    "data = np.load(npz)  # load all the data from the archive\n",
    "\n",
    "images = data[\"images\"]  # images in BHW array order\n",
    "segs = data[\"segs\"]  # segmentations in BHW array order\n",
    "case_indices = data[\"caseIndices\"]  # the indices in `images` for each case\n",
    "\n",
    "images = images.astype(np.float32) / images.max()  # normalize images\n",
    "\n",
    "print(images.shape, segs.shape)\n",
    "plt.imshow(images[13] + segs[13] * 0.25, cmap=\"gray\")  # show image 13 with segmentation"
   ]
  },
  {
   "cell_type": "markdown",
   "metadata": {},
   "source": [
    "We will split our data into a training and validation set by keeping the last 6 cases as the latter:"
   ]
  },
  {
   "cell_type": "markdown",
   "metadata": {},
   "source": [
    "## Baseline [start]"
   ]
  },
  {
   "cell_type": "markdown",
   "metadata": {},
   "source": [
    "```\n",
    "valid_index = case_indices[-6, 0]  # keep the last 6 cases for testing\n",
    "\n",
    "# divide the images, segmentations, and categories into train/test sets\n",
    "train_images, train_segs = images[:valid_index], segs[:valid_index]\n",
    "valid_images, valid_segs = images[valid_index:], segs[valid_index:]\n",
    "\n",
    "batch_size = 50\n",
    "num_workers = 2\n",
    "\n",
    "image_trans = Compose(\n",
    "    [\n",
    "        ScaleIntensity(),  # rescale image data to range [0,1]\n",
    "        AddChannel(),  # add 1-size channel dimension\n",
    "        ToTensor(),  # convert to tensor\n",
    "    ]\n",
    ")\n",
    "\n",
    "seg_trans = Compose([AddChannel(), ToTensor()])\n",
    "\n",
    "ds = ArrayDataset(train_images, image_trans, train_segs, seg_trans)\n",
    "loader = DataLoader(\n",
    "    dataset=ds,\n",
    "    batch_size=batch_size,\n",
    "    num_workers=num_workers,\n",
    "    pin_memory=torch.cuda.is_available(),\n",
    ")\n",
    "\n",
    "val_ds = ArrayDataset(valid_images, image_trans, valid_segs, seg_trans)\n",
    "val_loader = DataLoader(\n",
    "    dataset=val_ds,\n",
    "    batch_size=batch_size,\n",
    "    num_workers=num_workers,\n",
    "    pin_memory=torch.cuda.is_available(),\n",
    ")\n",
    "\n",
    "im, seg = first(loader)\n",
    "print(im.shape, im.min(), im.max(), seg.shape)\n",
    "```"
   ]
  },
  {
   "cell_type": "markdown",
   "metadata": {},
   "source": [
    "We can now create a MONAI data loading object to compose batches during training, and another for validation:"
   ]
  },
  {
   "cell_type": "markdown",
   "metadata": {},
   "source": [
    "## Baseline [end]"
   ]
  },
  {
   "cell_type": "markdown",
   "metadata": {},
   "source": [
    "### 1. Improve Data Pipeline\n",
    "\n",
    "The pipeline currently has a very basic set of transforms. We'd want to add new transforms which will add regularization to our training process, specifically modifying the image and segmentations to make the learning problem a little harder. \n",
    "\n",
    "The dataset being used is `ArrayDataset` but we have in MONAI `NPZDictItemDataset` for loading data from Numpy's NPZ file format. Change the code to use this class instead. You'll need a different way of getting `caseIndices` and splitting the dataset using it."
   ]
  },
  {
   "cell_type": "code",
   "execution_count": 7,
   "metadata": {},
   "outputs": [],
   "source": [
    "from monai.transforms import (\n",
    "    Activationsd, \n",
    "    AsDiscreted,\n",
    "    AddChanneld,\n",
    "    ScaleIntensityd,\n",
    "    CastToTyped,\n",
    "    EnsureTyped,\n",
    "    RandFlipd,\n",
    "    RandRotate90d,\n",
    "    RandZoomd,\n",
    "    Rand2DElasticd,\n",
    "    RandAffined,\n",
    ")\n"
   ]
  },
  {
   "cell_type": "code",
   "execution_count": 8,
   "metadata": {},
   "outputs": [],
   "source": [
    "# new imports\n",
    "from monai.data import  NPZDictItemDataset #TODO  #ArrayDataset  to NPZDictItemDataset\n",
    "\n",
    "############\n",
    "batch_size = 2048\n",
    "num_workers = 4 #2\n",
    "aug_prob = 0.5\n",
    "############\n",
    "from monai.transforms import (\n",
    "    Activationsd, \n",
    "    AsDiscreted,\n",
    "    AddChanneld,\n",
    "    ScaleIntensityd,\n",
    "    CastToTyped,\n",
    "    EnsureTyped,\n",
    "    RandFlipd,\n",
    "    RandRotate90d,\n",
    "    RandZoomd,\n",
    "    Rand2DElasticd,\n",
    "    RandAffined,\n",
    ")\n"
   ]
  },
  {
   "cell_type": "markdown",
   "metadata": {},
   "source": [
    "You'll need a different way of getting caseIndices and splitting the dataset using it. In the baseline, We split our data into a training and validation set by keeping the last 6 cases as the latter:"
   ]
  },
  {
   "cell_type": "code",
   "execution_count": 9,
   "metadata": {},
   "outputs": [],
   "source": [
    "####\n",
    "# use these when interpolating binary segmentations to ensure values are 0 or 1 only\n",
    "zoom_mode = monai.utils.enums.InterpolateMode.NEAREST\n",
    "elast_mode = monai.utils.enums.GridSampleMode.BILINEAR, monai.utils.enums.GridSampleMode.NEAREST\n",
    "\n",
    "#########\n",
    "# for keys \n",
    "from monai.utils.enums import CommonKeys\n",
    "both_keys =  (CommonKeys.IMAGE, CommonKeys.LABEL) #(None, None) # TODO\n",
    "image_only = CommonKeys.IMAGE #None #TODO"
   ]
  },
  {
   "cell_type": "code",
   "execution_count": 10,
   "metadata": {},
   "outputs": [],
   "source": [
    "train_trans = Compose(\n",
    "    [\n",
    "        CastToTyped(image_only, (np.float32)),\n",
    "        ScaleIntensityd(image_only),\n",
    "        AddChanneld(both_keys),\n",
    "        RandRotate90d(keys=both_keys, prob=aug_prob),\n",
    "        RandFlipd(keys=both_keys, prob=aug_prob),\n",
    "        RandZoomd(keys=both_keys, prob=aug_prob, mode=zoom_mode),\n",
    "        Rand2DElasticd(keys=both_keys, prob=aug_prob, spacing=10, magnitude_range=(-2, 2), mode=elast_mode),\n",
    "#         RandAffined(keys=both_keys, prob=aug_prob, rotate_range=1, translate_range=16, mode=elast_mode),\n",
    "        CastToTyped(both_keys, (np.float32, np.int32)),\n",
    "        EnsureTyped(both_keys),\n",
    "#         AddChanneld(both_keys),  # add 1-size channel dimension\n",
    "#         ToTensor(both_keys),  # convert to tensor\n",
    "    ]\n",
    ")\n",
    "\n",
    "val_trans = Compose(\n",
    "    [\n",
    "        CastToTyped(image_only, (np.float32)),\n",
    "        ScaleIntensityd(image_only),\n",
    "        AddChanneld(both_keys),\n",
    "        CastToTyped(both_keys, (np.float32, np.int32)),\n",
    "        EnsureTyped(both_keys),\n",
    "    ]\n",
    ")"
   ]
  },
  {
   "cell_type": "markdown",
   "metadata": {},
   "source": [
    "We can now create a MONAI data loading object to compose batches during training, and another for validation: However, we need to replace `ArrayDataset` `ArrayDataset(train_images, image_trans, train_segs, seg_trans)` with `NPZDictItemDataset`\n",
    "\n",
    "check MONAI document for [NPZDictItemDataset](https://docs.monai.io/en/stable/data.html?highlight=NPZDictItemDataset#npzdictitemdataset)\n",
    "\n",
    "class monai.data.<b>NPZDictItemDataset</b>(`npzfile, keys, transform=None, other_keys=()`)\n",
    "\n",
    "Represents a dataset from a loaded NPZ file. The members of the file to load are named in the keys of keys and stored under the keyed name. All loaded arrays must have the same 0-dimension (batch) size. Items are always dicts mapping names to an item extracted from the loaded arrays. If passing slicing indices, will return a PyTorch Subset, for example: data: Subset = dataset[1:4], for more details, please check: https://pytorch.org/docs/stable/data.html#torch.utils.data.Subset\n",
    "\n",
    "Parameters\n",
    "- <b>npzfile</b> (`Union[str, IO]`) – Path to .npz file or stream containing .npz file data\n",
    "- <b>keys</b> (`Dict[str, str]`) – Maps keys to load from file to name to store in dataset\n",
    "- <b>transform</b> (`Optional[Callable[…, Dict[str, Any]]]`) – Transform to apply to batch dict\n",
    "- <b>other_keys</b> (`Optional[Sequence[str]]`) – secondary data to load from file and store in dict other_keys, not returned by __getitem__\n",
    "- <b>data</b> – input data to load and transform to generate dataset for model.\n",
    "- <b>transform</b> – a callable data transform on input data."
   ]
  },
  {
   "cell_type": "code",
   "execution_count": 11,
   "metadata": {},
   "outputs": [],
   "source": [
    "\n",
    "# for keys \n",
    "from monai.utils.enums import CommonKeys\n",
    "\n",
    "# create training and validation datasets from the whole set of images, these will be resized below based on case indices\n",
    "\n",
    "keys_train = {\"images\": CommonKeys.IMAGE, \"segs\": CommonKeys.LABEL} #TODO\n",
    "keys_val =  {\"images\": CommonKeys.IMAGE, \"segs\": CommonKeys.LABEL} # TODO\n",
    "\n",
    "train_dat = NPZDictItemDataset( npz, keys_train , train_trans  , (\"caseIndices\",) ) #TODO #ArrayDataset  to NPZDictItemDataset\n",
    "val_dat   = NPZDictItemDataset( npz, keys_val , val_trans  ) #TODO  #ArrayDataset  to NPZDictItemDataset\n"
   ]
  },
  {
   "cell_type": "code",
   "execution_count": 12,
   "metadata": {},
   "outputs": [
    {
     "data": {
      "text/plain": [
       "(image, label)"
      ]
     },
     "execution_count": 12,
     "metadata": {},
     "output_type": "execute_result"
    }
   ],
   "source": [
    "CommonKeys.IMAGE, CommonKeys.LABEL"
   ]
  },
  {
   "cell_type": "markdown",
   "metadata": {},
   "source": [
    "configure  train_loader and val_loader"
   ]
  },
  {
   "cell_type": "code",
   "execution_count": 13,
   "metadata": {},
   "outputs": [],
   "source": [
    "\n",
    "\n",
    "# extract the case indices array\n",
    "case_indices = train_dat.other_keys[\"caseIndices\"] # TODO data[\"caseIndices\"]   to train_dat\n",
    "val_index = case_indices[-6, 0]  # keep the last 6 cases for testing\n",
    "\n",
    "\n",
    "train_dat = train_dat[:val_index]\n",
    "val_dat = val_dat[val_index:]\n",
    "\n",
    "\n",
    "train_loader = DataLoader(\n",
    "    dataset=train_dat,\n",
    "    batch_size=batch_size,\n",
    "    num_workers=num_workers,\n",
    "    pin_memory=torch.cuda.is_available(),\n",
    ")\n",
    "\n",
    "val_loader = DataLoader(\n",
    "    dataset=val_dat,\n",
    "    batch_size=batch_size,\n",
    "    num_workers=num_workers,\n",
    "    pin_memory=torch.cuda.is_available(),\n",
    ")\n",
    "\n"
   ]
  },
  {
   "cell_type": "code",
   "execution_count": 14,
   "metadata": {},
   "outputs": [
    {
     "name": "stdout",
     "output_type": "stream",
     "text": [
      "368 52\n",
      "1 1\n"
     ]
    }
   ],
   "source": [
    "print(len(train_dat), len(val_dat))\n",
    "print(len(train_loader), len(val_loader))\n"
   ]
  },
  {
   "cell_type": "markdown",
   "metadata": {},
   "source": [
    "We now define out simple network. This doesn't do a good job so consider how to improve it by adding layers or other elements:"
   ]
  },
  {
   "cell_type": "markdown",
   "metadata": {},
   "source": [
    "### Monai Network\n",
    "MONAI provides predefined networks. we can easily import it. \n",
    "\n",
    "- [Layers](https://docs.monai.io/en/stable/networks.html#layers) : Act, Conv, Norm, Dropout, Flatten, Reshape, Pad, Pool, SkipConnection\n",
    "- [Blocks](https://docs.monai.io/en/stable/networks.html#module-monai.networks.blocks) : ADN, Convolution, Synamic UnetBlock, FCN, GCN, Squeeze-andExcitation, ResNeXt, SABlock, Transformer Block, \n",
    "- [Nets](https://docs.monai.io/en/stable/networks.html#nets)  : DenseNet121, EfficientNet, SegResNet, ResNet, SENet154, DyUNet, UNet, AutoEncoder, VarAutoEncoder, ViT, "
   ]
  },
  {
   "cell_type": "markdown",
   "metadata": {},
   "source": [
    "We now define out simple network. This doesn't do a good job so consider how to improve it by adding layers or other elements:"
   ]
  },
  {
   "cell_type": "markdown",
   "metadata": {},
   "source": [
    "# BaseLine Model \n",
    "\n",
    "SegNet : \n",
    " - Input \n",
    " - Conv2D\n",
    " - MaxPool2D\n",
    " - Conv3D\n",
    " - ConvT2D\n",
    " - Conv2d\n",
    " - Output \n",
    "\n",
    "<p><img align='left' src=\"https://miro.medium.com/max/1400/1*nGFy96r63GwSE_EsJDLMDw.png\" width=600>  </p>\n",
    "<br>\n"
   ]
  },
  {
   "cell_type": "markdown",
   "metadata": {},
   "source": [
    "```\n",
    "class SegNet(nn.Module):\n",
    "    def __init__(self):\n",
    "        super().__init__()\n",
    "\n",
    "        self.model = nn.Sequential(\n",
    "            # layer 1: convolution, normalization, downsampling\n",
    "            nn.Conv2d(1, 2, 3, 1, 1),\n",
    "            nn.BatchNorm2d(2),\n",
    "            nn.ReLU(),\n",
    "            nn.MaxPool2d(3, 2, 1),\n",
    "            # layer 2\n",
    "            nn.Conv2d(2, 4, 3, 1, 1),\n",
    "            # layer 3\n",
    "            nn.ConvTranspose2d(4, 2, 3, 2, 1, 1),\n",
    "            nn.BatchNorm2d(2),\n",
    "            nn.ReLU(),\n",
    "            # layer 4: output\n",
    "            nn.Conv2d(2, 1, 3, 1, 1),\n",
    "        )\n",
    "\n",
    "    def forward(self, x):\n",
    "        return self.model(x)\n",
    "    \n",
    "net = SegNet()\n",
    "net = net.to(device)\n",
    "\n",
    "```"
   ]
  },
  {
   "cell_type": "markdown",
   "metadata": {},
   "source": [
    "## 👉 Challenge: Improve Results and Implementation 👈\n",
    "\n",
    "\n",
    "### 2. Improve/Replace Network\n",
    "\n",
    "As you can see we're not getting good results from our network. The training loss values are jumping around and not decreasing much anymore. The validation score has topped out at 0.25, which is really poor. \n",
    "\n",
    "It's now up to you to improve the results of our segmentation task. The things to consider changing include the network itself, how data is loaded, how batches might be composed, and what transforms we want to use from MONAI. "
   ]
  },
  {
   "cell_type": "markdown",
   "metadata": {},
   "source": [
    "# 2. Model \n",
    "\n",
    "### UNet\n",
    "\n",
    "[U-Net: Convolutional Networks for Biomedical Image Segmentation](https://arxiv.org/abs/1505.04597)\n",
    "U Shaped Network was developed by Olaf Ronneberger et al. for Bio Medical Image Segmentation. \n",
    "It is Fully Convolutional Network Model for the segmentation task with two paths(encoder and decoder) with 1x1 convolution skip connection similar as residual. \n",
    "<img src=\"https://miro.medium.com/max/1400/1*J3t2b65ufsl1x6caf6GiBA.png\" width=800>\n",
    "\n",
    "#### UNet in monai.networks\n",
    "class monai.networks.nets.<b>UNet </b> (`spatial_dims, in_channels, out_channels, channels, strides, kernel_size=3, up_kernel_size=3, num_res_units=0, act='PRELU', norm='INSTANCE', dropout=0.0, bias=True, dimensions=None` )\n",
    "Enhanced version of <br>UNet</b> which has residual units implemented with the `ResidualUnit` class. The residual part uses a convolution to change the input dimensions to match the output dimensions if this is necessary but will use `nn.Identity` if not. Refer to: [Link](https://link.springer.com/chapter/10.1007/978-3-030-12029-0_40).\n",
    "\n",
    "Each layer of the network has a encode and decode path with a skip connection between them. Data in the encode path is downsampled using strided convolutions (if strides is given values greater than 1) and in the decode path upsampled using strided transpose convolutions. These down or up sampling operations occur at the beginning of each block rather than afterwards as is typical in <b>UNet</b> implementations.\n",
    "\n",
    "To further explain this consider the first example network given below. This network has 3 layers with strides of 2 for each of the middle layers (the last layer is the bottom connection which does not down/up sample). Input data to this network is immediately reduced in the spatial dimensions by a factor of 2 by the first convolution of the residual unit defining the first layer of the encode part. The last layer of the decode part will upsample its input (data from the previous layer concatenated with data from the skip connection) in the first convolution. this ensures the final output of the network has the same shape as the input.\n",
    "\n",
    "Padding values for the convolutions are chosen to ensure output sizes are even divisors/multiples of the input sizes if the strides value for a layer is a factor of the input sizes. A typical case is to use strides values of 2 and inputs that are multiples of powers of 2. An input can thus be downsampled evenly however many times its dimensions can be divided by 2, so for the example network inputs would have to have dimensions that are multiples of 4. In the second example network given below the input to the bottom layer will have shape `(1, 64, 15, 15)` for an input of shape `(1, 1, 240, 240)` demonstrating the input being reduced in size spatially by 2**4.\n",
    "\n",
    "##### Parameters\n",
    " - <b>spatial_dims </b>(`int`)  – number of spatial dimensions.\n",
    " - <b>in_channels </b>(`int`) – number of input channels.\n",
    " - <b>out_channels </b>(`int`) – number of output channels.\n",
    " - <b>channels</b> (`Sequence[int]`) – sequence of channels. Top block first. The length of channels should be no less than 2.\n",
    " - <b>strides</b> (`Sequence[int]`) – sequence of convolution strides. The length of stride should equal to len(channels) - 1.\n",
    " - <b>kernel_size</b> (`Union[Sequence[int], int]`) – convolution kernel size, the value(s) should be odd. If sequence, its length should equal to dimensions. Defaults to 3.\n",
    " - <b>up_kernel_size</b> (`Union[Sequence[int], int]`) – upsampling convolution kernel size, the value(s) should be odd. If sequence, its length should equal to dimensions. Defaults to 3.\n",
    " - <b>num_res_units</b>  (`int`)– number of residual units. Defaults to 0.\n",
    " - <b>act</b> (`Union[Tuple, str]`) – activation type and arguments. Defaults to PReLU.\n",
    " - <b>norm</b> (`Union[Tuple, str]`) – feature normalization type and arguments. Defaults to instance norm.\n",
    " - <b>dropout</b> (`float`) – dropout ratio. Defaults to no dropout.\n",
    " - <b>bias (`bool`)</b> – whether to have a bias term in convolution blocks. Defaults to True. According to Performance Tuning Guide, if a conv layer is directly followed by a batch norm layer, bias should be False."
   ]
  },
  {
   "cell_type": "code",
   "execution_count": 15,
   "metadata": {},
   "outputs": [],
   "source": [
    "from monai.networks.nets import AutoEncoder\n",
    "from monai.networks.nets import UNet\n",
    "from monai.networks.layers import Norm\n",
    "\n",
    "device = torch.device(\"cuda:0\")\n",
    "\n",
    "net = AutoEncoder( spatial_dims =2, in_channels=1, out_channels=1, channels=(4, 8, 16, 32),  strides=(2, 2, 2, 2), ) \n",
    "#net = AutoEncoder( spatial_dims =2, in_channels=1, out_channels=1, channels=(8, 16, 32, 64), strides=(2, 2, 2, 2), )\n",
    "#net = UNet(spatial_dims=2, in_channels=1, out_channels=1, channels=[16, 32, 64], strides=[2, 2], num_res_units=2, dropout=0.2) # 3 layers \n",
    "#net = UNet(spatial_dims=2, in_channels=1, out_channels=1, channels=[4, 8, 16], strides=[2, 2], num_res_units=2, dropout=0.2) # 3 layers \n",
    "#net = UNet(spatial_dims=2, in_channels=1, out_channels=1, channels=[4, 8, 16, 32,64], strides=[2,2, 2,2], num_res_units=3, dropout=0.4) # 5 layers\n",
    "#net = UNet(spatial_dims=2, in_channels=1, out_channels=1, channels=[16, 32, 64, 128, 256], strides=[2, 2, 2, 2], num_res_units=4, dropout=0.2) # 5 layers\n",
    "#net = UNet(spatial_dims=2, in_channels=1, out_channels=1, channels=[4, 8, 16, 32,64, 128,256], strides=[2, 2, 2, 2,2,2], num_res_units=6, dropout=0.2) # 7 layers\n",
    "\n",
    "net = net.to(device)\n"
   ]
  },
  {
   "cell_type": "markdown",
   "metadata": {},
   "source": [
    "### loss and metric"
   ]
  },
  {
   "cell_type": "code",
   "execution_count": 16,
   "metadata": {},
   "outputs": [],
   "source": [
    "from monai.losses import DiceLoss\n",
    "from monai.metrics import DiceMetric\n",
    "loss = DiceLoss(sigmoid=True)\n",
    "metric = DiceMetric(include_background=True, reduction=\"mean\")"
   ]
  },
  {
   "cell_type": "code",
   "execution_count": 25,
   "metadata": {},
   "outputs": [],
   "source": [
    "class DiceBCELoss(nn.Module):\n",
    "    def __init__(self, weight=None, size_average=True):\n",
    "        super(DiceBCELoss, self).__init__()\n",
    "\n",
    "    def forward(self, inputs, targets, smooth=1):\n",
    "        \n",
    "        #comment out if your model contains a sigmoid or equivalent activation layer\n",
    "        inputs = F.sigmoid(inputs)       \n",
    "        \n",
    "        #flatten label and prediction tensors\n",
    "        inputs = inputs.view(-1)\n",
    "        targets = targets.view(-1)\n",
    "        \n",
    "        intersection = (inputs * targets).sum()                            \n",
    "        dice_loss = 1 - (2.*intersection + smooth)/(inputs.sum() + targets.sum() + smooth)  \n",
    "        \n",
    "#         print()\n",
    "#         print(inputs.dtype, targets.dtype)\n",
    "#         print(inputs[:5], targets[:5])\n",
    "        BCE = F.binary_cross_entropy(inputs, targets.float(), reduction='mean')\n",
    "        Dice_BCE = BCE + dice_loss\n",
    "        \n",
    "        return Dice_BCE\n",
    "    \n",
    "loss = DiceBCELoss()"
   ]
  },
  {
   "cell_type": "markdown",
   "metadata": {},
   "source": [
    "### configure optimizer"
   ]
  },
  {
   "cell_type": "code",
   "execution_count": 26,
   "metadata": {},
   "outputs": [],
   "source": [
    "lr = 3e-3\n",
    "opt = torch.optim.Adam(net.parameters(), lr)"
   ]
  },
  {
   "cell_type": "markdown",
   "metadata": {},
   "source": [
    "### train loop [Baseline]"
   ]
  },
  {
   "cell_type": "markdown",
   "metadata": {},
   "source": [
    "```\n",
    "step_losses = []\n",
    "epoch_metrics = []\n",
    "total_step = 0\n",
    "num_epochs = 200\n",
    "\n",
    "print(\"start train\")\n",
    "\n",
    "for epoch in range(num_epochs):\n",
    "    net.train()\n",
    "\n",
    "    # train network with training images\n",
    "    for bimages, bsegs in loader:\n",
    "        bimages = bimages.to(device)\n",
    "        bsegs = bsegs.to(device)\n",
    "\n",
    "        opt.zero_grad()\n",
    "\n",
    "        prediction = net(bimages)\n",
    "        loss_val = loss(torch.sigmoid(prediction), bsegs)\n",
    "        loss_val.backward()\n",
    "        opt.step()\n",
    "\n",
    "        step_losses.append((total_step, loss_val.item()))\n",
    "        total_step += 1\n",
    "\n",
    "    net.eval()\n",
    "    metric_vals = []\n",
    "\n",
    "    # test our network using the validation dataset\n",
    "    with torch.no_grad():\n",
    "        for bimages, bsegs in val_loader:\n",
    "            bimages = bimages.to(device)\n",
    "            bsegs = bsegs.to(device)\n",
    "\n",
    "            #prediction = net(bimages)\n",
    "\n",
    "            mvals = metric(y_pred=torch.sigmoid(prediction) > 0.5, y=bsegs)\n",
    "            metric_vals += mvals.cpu().data.numpy().flatten().tolist()\n",
    "\n",
    "    epoch_metrics.append((total_step, np.average(metric_vals)))\n",
    "\n",
    "    progress_bar(epoch + 1, num_epochs, f\"Validation Metric: {epoch_metrics[-1][1]:7.3}\")\n",
    "```    "
   ]
  },
  {
   "cell_type": "markdown",
   "metadata": {},
   "source": [
    "We now graph the results from our training and find the results are not very good:"
   ]
  },
  {
   "cell_type": "markdown",
   "metadata": {},
   "source": [
    "## 👉 Challenge: Improve Results and Implementation 👈\n",
    "\n",
    "### 3. Replace The Training Loop\n",
    "\n",
    "This notebook uses a simple training loop with validation done explicitly. Replace this with a use of the `SupervisedTrainer` class and `SupervisedEvaluator` to do the evaluation throughout the training process. The graph plotting is done simply by recording values at each iteration through the loop, you'll want to use some other mechanism to do the same thing such as using a `MetricLogger` handler object."
   ]
  },
  {
   "cell_type": "markdown",
   "metadata": {},
   "source": [
    "# 3. Ignite\n",
    "in the end-to-end pipeline notebook,  we already use   `SupervisedTrainer` and `SupervisedEvaluator`. \n",
    "use MedNIST pipeline 03 and 04 for reference code."
   ]
  },
  {
   "cell_type": "code",
   "execution_count": 27,
   "metadata": {},
   "outputs": [],
   "source": [
    "step_losses = []\n",
    "epoch_metrics = []\n",
    "metric_values = []\n",
    "iter_losses=[]\n",
    "batch_sizes=[]\n",
    "epoch_loss_values =[]\n",
    "total_step = 0\n",
    "max_epochs = 200\n",
    "step = 1"
   ]
  },
  {
   "cell_type": "code",
   "execution_count": 28,
   "metadata": {},
   "outputs": [],
   "source": [
    "from monai.transforms import Compose, Activationsd, AsDiscreted\n",
    "\n",
    "post_transform = Compose(\n",
    "    [Activationsd(keys=\"pred\", sigmoid=True), AsDiscreted(keys=[\"pred\", \"label\"], threshold_values=True,),]\n",
    ")"
   ]
  },
  {
   "cell_type": "code",
   "execution_count": 29,
   "metadata": {},
   "outputs": [],
   "source": [
    "from monai.handlers import StatsHandler, MeanDice, from_engine\n",
    "from monai.engines import SupervisedEvaluator\n",
    "\n",
    "\n",
    "evaluator = SupervisedEvaluator(\n",
    "    device= device, #TODO\n",
    "    val_data_loader= val_loader, #TODO\n",
    "    network=net , #TODO\n",
    "    postprocessing= post_transform, #TODO\n",
    "    key_val_metric={\"val_mean_dice\": MeanDice(include_background=True, output_transform=from_engine([\"pred\", \"label\"]))},\n",
    "    val_handlers=[StatsHandler(output_transform=lambda x: None)],\n",
    ")\n"
   ]
  },
  {
   "cell_type": "code",
   "execution_count": 30,
   "metadata": {},
   "outputs": [
    {
     "name": "stdout",
     "output_type": "stream",
     "text": [
      "368 2048 1\n"
     ]
    }
   ],
   "source": [
    "from monai.handlers import MetricLogger, ValidationHandler\n",
    "from monai.engines import SupervisedTrainer\n",
    "\n",
    "logger = MetricLogger(evaluator=evaluator)\n",
    "\n",
    "trainer = SupervisedTrainer(\n",
    "    device= device, #TODO\n",
    "    max_epochs= max_epochs,  #TODO\n",
    "    train_data_loader= train_loader,  #TODO\n",
    "    network= net,  #TODO\n",
    "    optimizer= opt,  #TODO\n",
    "    loss_function= loss,  #TODO\n",
    "    train_handlers=[logger, ValidationHandler(1, evaluator)],\n",
    ")\n",
    "\n",
    "steps_per_epoch = len(train_dat) // train_loader.batch_size\n",
    "if len(train_dat) % train_loader.batch_size != 0:\n",
    "    steps_per_epoch += 1\n",
    "print(len(train_dat) , train_loader.batch_size, steps_per_epoch)"
   ]
  },
  {
   "cell_type": "code",
   "execution_count": 31,
   "metadata": {},
   "outputs": [],
   "source": [
    "from ignite.engine import Engine, Events\n",
    "\n",
    "@trainer.on(Events.ITERATION_COMPLETED)\n",
    "def _end_iter(engine: Engine):\n",
    "    global step\n",
    "    loss = np.average([o[\"loss\"] for o in engine.state.output])\n",
    "    batch_len = len(engine.state.batch[0])\n",
    "    epoch = engine.state.epoch\n",
    "    epoch_len = engine.state.max_epochs\n",
    "    step_total = engine.state.iteration  \n",
    "    iter_losses.append(loss)\n",
    "    batch_sizes.append(batch_len)\n",
    "\n",
    "    print(f\"\\nepoch {epoch}/{epoch_len}, step {step}/{steps_per_epoch},  total step {step_total}/{steps_per_epoch*epoch_len}, training_loss = {loss:.4f}\", end='')\n",
    "    step += 1\n",
    "    \n",
    "\n",
    "@trainer.on(Events.EPOCH_COMPLETED)\n",
    "def _end_epoch(engine: Engine):\n",
    "    global step\n",
    "    overall_average_loss = np.average(iter_losses, weights=batch_sizes)\n",
    "    epoch_loss_values.append(overall_average_loss)    \n",
    "    # clear the contents of iter_losses and batch_sizes for the next epoch\n",
    "    del iter_losses[:]\n",
    "    del batch_sizes[:]\n",
    "    \n",
    "    dice = evaluator.state.metrics[\"val_mean_dice\"]   \n",
    "    metric_values.append(dice)\n",
    "    #progress_bar(engine.state.epoch, num_epochs, f\"Validation Metric: {dice:7.3}\")\n",
    "    print(f\" | avg loss: {overall_average_loss:.4f} Dice Metric: {dice:7.3}\", end='')\n",
    "    step = 1\n",
    "\n"
   ]
  },
  {
   "cell_type": "code",
   "execution_count": 32,
   "metadata": {
    "scrolled": true
   },
   "outputs": [
    {
     "name": "stdout",
     "output_type": "stream",
     "text": [
      "\n",
      "epoch 1/200, step 1/1,  total step 1/200, training_loss = 1.6050 | avg loss: 1.6050 Dice Metric:  0.0869\n",
      "epoch 2/200, step 1/1,  total step 2/200, training_loss = 1.5957 | avg loss: 1.5957 Dice Metric:  0.0879\n",
      "epoch 3/200, step 1/1,  total step 3/200, training_loss = 1.5878 | avg loss: 1.5878 Dice Metric:  0.0906\n",
      "epoch 4/200, step 1/1,  total step 4/200, training_loss = 1.5805 | avg loss: 1.5805 Dice Metric:  0.0919\n",
      "epoch 5/200, step 1/1,  total step 5/200, training_loss = 1.5736 | avg loss: 1.5736 Dice Metric:  0.0937\n",
      "epoch 6/200, step 1/1,  total step 6/200, training_loss = 1.5669 | avg loss: 1.5669 Dice Metric:  0.0975\n",
      "epoch 7/200, step 1/1,  total step 7/200, training_loss = 1.5605 | avg loss: 1.5605 Dice Metric:   0.101\n",
      "epoch 8/200, step 1/1,  total step 8/200, training_loss = 1.5544 | avg loss: 1.5544 Dice Metric:   0.107\n",
      "epoch 9/200, step 1/1,  total step 9/200, training_loss = 1.5485 | avg loss: 1.5485 Dice Metric:   0.113\n",
      "epoch 10/200, step 1/1,  total step 10/200, training_loss = 1.5426 | avg loss: 1.5426 Dice Metric:   0.119\n",
      "epoch 11/200, step 1/1,  total step 11/200, training_loss = 1.5369 | avg loss: 1.5369 Dice Metric:   0.125\n",
      "epoch 12/200, step 1/1,  total step 12/200, training_loss = 1.5313 | avg loss: 1.5313 Dice Metric:   0.131\n",
      "epoch 13/200, step 1/1,  total step 13/200, training_loss = 1.5257 | avg loss: 1.5257 Dice Metric:   0.138\n",
      "epoch 14/200, step 1/1,  total step 14/200, training_loss = 1.5202 | avg loss: 1.5202 Dice Metric:   0.143\n",
      "epoch 15/200, step 1/1,  total step 15/200, training_loss = 1.5148 | avg loss: 1.5148 Dice Metric:   0.151\n",
      "epoch 16/200, step 1/1,  total step 16/200, training_loss = 1.5095 | avg loss: 1.5095 Dice Metric:   0.158\n",
      "epoch 17/200, step 1/1,  total step 17/200, training_loss = 1.5042 | avg loss: 1.5042 Dice Metric:   0.165\n",
      "epoch 18/200, step 1/1,  total step 18/200, training_loss = 1.4990 | avg loss: 1.4990 Dice Metric:    0.17\n",
      "epoch 19/200, step 1/1,  total step 19/200, training_loss = 1.4939 | avg loss: 1.4939 Dice Metric:   0.174\n",
      "epoch 20/200, step 1/1,  total step 20/200, training_loss = 1.4887 | avg loss: 1.4887 Dice Metric:   0.179\n",
      "epoch 21/200, step 1/1,  total step 21/200, training_loss = 1.4836 | avg loss: 1.4836 Dice Metric:   0.183\n",
      "epoch 22/200, step 1/1,  total step 22/200, training_loss = 1.4785 | avg loss: 1.4785 Dice Metric:   0.185\n",
      "epoch 23/200, step 1/1,  total step 23/200, training_loss = 1.4734 | avg loss: 1.4734 Dice Metric:   0.189\n",
      "epoch 24/200, step 1/1,  total step 24/200, training_loss = 1.4683 | avg loss: 1.4683 Dice Metric:   0.192\n",
      "epoch 25/200, step 1/1,  total step 25/200, training_loss = 1.4634 | avg loss: 1.4634 Dice Metric:   0.195\n",
      "epoch 26/200, step 1/1,  total step 26/200, training_loss = 1.4584 | avg loss: 1.4584 Dice Metric:   0.197\n",
      "epoch 27/200, step 1/1,  total step 27/200, training_loss = 1.4535 | avg loss: 1.4535 Dice Metric:   0.201\n",
      "epoch 28/200, step 1/1,  total step 28/200, training_loss = 1.4487 | avg loss: 1.4487 Dice Metric:   0.204\n",
      "epoch 29/200, step 1/1,  total step 29/200, training_loss = 1.4439 | avg loss: 1.4439 Dice Metric:   0.208\n",
      "epoch 30/200, step 1/1,  total step 30/200, training_loss = 1.4392 | avg loss: 1.4392 Dice Metric:   0.213\n",
      "epoch 31/200, step 1/1,  total step 31/200, training_loss = 1.4344 | avg loss: 1.4344 Dice Metric:   0.216\n",
      "epoch 32/200, step 1/1,  total step 32/200, training_loss = 1.4297 | avg loss: 1.4297 Dice Metric:   0.222\n",
      "epoch 33/200, step 1/1,  total step 33/200, training_loss = 1.4249 | avg loss: 1.4249 Dice Metric:   0.227\n",
      "epoch 34/200, step 1/1,  total step 34/200, training_loss = 1.4200 | avg loss: 1.4200 Dice Metric:   0.232\n",
      "epoch 35/200, step 1/1,  total step 35/200, training_loss = 1.4151 | avg loss: 1.4151 Dice Metric:   0.235\n",
      "epoch 36/200, step 1/1,  total step 36/200, training_loss = 1.4101 | avg loss: 1.4101 Dice Metric:   0.241\n",
      "epoch 37/200, step 1/1,  total step 37/200, training_loss = 1.4051 | avg loss: 1.4051 Dice Metric:   0.248\n",
      "epoch 38/200, step 1/1,  total step 38/200, training_loss = 1.3999 | avg loss: 1.3999 Dice Metric:   0.253\n",
      "epoch 39/200, step 1/1,  total step 39/200, training_loss = 1.3947 | avg loss: 1.3947 Dice Metric:   0.259\n",
      "epoch 40/200, step 1/1,  total step 40/200, training_loss = 1.3894 | avg loss: 1.3894 Dice Metric:   0.265\n",
      "epoch 41/200, step 1/1,  total step 41/200, training_loss = 1.3840 | avg loss: 1.3840 Dice Metric:   0.272\n",
      "epoch 42/200, step 1/1,  total step 42/200, training_loss = 1.3786 | avg loss: 1.3786 Dice Metric:   0.277\n",
      "epoch 43/200, step 1/1,  total step 43/200, training_loss = 1.3732 | avg loss: 1.3732 Dice Metric:   0.282\n",
      "epoch 44/200, step 1/1,  total step 44/200, training_loss = 1.3677 | avg loss: 1.3677 Dice Metric:   0.287\n",
      "epoch 45/200, step 1/1,  total step 45/200, training_loss = 1.3622 | avg loss: 1.3622 Dice Metric:   0.292\n",
      "epoch 46/200, step 1/1,  total step 46/200, training_loss = 1.3566 | avg loss: 1.3566 Dice Metric:   0.299\n",
      "epoch 47/200, step 1/1,  total step 47/200, training_loss = 1.3511 | avg loss: 1.3511 Dice Metric:   0.305\n",
      "epoch 48/200, step 1/1,  total step 48/200, training_loss = 1.3456 | avg loss: 1.3456 Dice Metric:   0.312\n",
      "epoch 49/200, step 1/1,  total step 49/200, training_loss = 1.3400 | avg loss: 1.3400 Dice Metric:   0.318\n",
      "epoch 50/200, step 1/1,  total step 50/200, training_loss = 1.3345 | avg loss: 1.3345 Dice Metric:   0.325\n",
      "epoch 51/200, step 1/1,  total step 51/200, training_loss = 1.3290 | avg loss: 1.3290 Dice Metric:   0.333\n",
      "epoch 52/200, step 1/1,  total step 52/200, training_loss = 1.3235 | avg loss: 1.3235 Dice Metric:   0.343\n",
      "epoch 53/200, step 1/1,  total step 53/200, training_loss = 1.3180 | avg loss: 1.3180 Dice Metric:   0.351\n",
      "epoch 54/200, step 1/1,  total step 54/200, training_loss = 1.3125 | avg loss: 1.3125 Dice Metric:   0.359\n",
      "epoch 55/200, step 1/1,  total step 55/200, training_loss = 1.3070 | avg loss: 1.3070 Dice Metric:   0.366\n",
      "epoch 56/200, step 1/1,  total step 56/200, training_loss = 1.3015 | avg loss: 1.3015 Dice Metric:   0.371\n",
      "epoch 57/200, step 1/1,  total step 57/200, training_loss = 1.2961 | avg loss: 1.2961 Dice Metric:   0.376\n",
      "epoch 58/200, step 1/1,  total step 58/200, training_loss = 1.2906 | avg loss: 1.2906 Dice Metric:   0.379\n",
      "epoch 59/200, step 1/1,  total step 59/200, training_loss = 1.2851 | avg loss: 1.2851 Dice Metric:   0.382\n",
      "epoch 60/200, step 1/1,  total step 60/200, training_loss = 1.2796 | avg loss: 1.2796 Dice Metric:   0.384\n",
      "epoch 61/200, step 1/1,  total step 61/200, training_loss = 1.2742 | avg loss: 1.2742 Dice Metric:   0.385\n",
      "epoch 62/200, step 1/1,  total step 62/200, training_loss = 1.2687 | avg loss: 1.2687 Dice Metric:   0.386\n",
      "epoch 63/200, step 1/1,  total step 63/200, training_loss = 1.2632 | avg loss: 1.2632 Dice Metric:   0.388\n",
      "epoch 64/200, step 1/1,  total step 64/200, training_loss = 1.2576 | avg loss: 1.2576 Dice Metric:    0.39\n",
      "epoch 65/200, step 1/1,  total step 65/200, training_loss = 1.2521 | avg loss: 1.2521 Dice Metric:   0.391\n",
      "epoch 66/200, step 1/1,  total step 66/200, training_loss = 1.2466 | avg loss: 1.2466 Dice Metric:   0.395\n",
      "epoch 67/200, step 1/1,  total step 67/200, training_loss = 1.2410 | avg loss: 1.2410 Dice Metric:   0.399\n",
      "epoch 68/200, step 1/1,  total step 68/200, training_loss = 1.2354 | avg loss: 1.2354 Dice Metric:   0.401\n",
      "epoch 69/200, step 1/1,  total step 69/200, training_loss = 1.2299 | avg loss: 1.2299 Dice Metric:   0.404\n",
      "epoch 70/200, step 1/1,  total step 70/200, training_loss = 1.2243 | avg loss: 1.2243 Dice Metric:   0.405\n",
      "epoch 71/200, step 1/1,  total step 71/200, training_loss = 1.2188 | avg loss: 1.2188 Dice Metric:   0.407\n",
      "epoch 72/200, step 1/1,  total step 72/200, training_loss = 1.2132 | avg loss: 1.2132 Dice Metric:    0.41\n",
      "epoch 73/200, step 1/1,  total step 73/200, training_loss = 1.2077 | avg loss: 1.2077 Dice Metric:   0.411\n",
      "epoch 74/200, step 1/1,  total step 74/200, training_loss = 1.2022 | avg loss: 1.2022 Dice Metric:   0.414\n",
      "epoch 75/200, step 1/1,  total step 75/200, training_loss = 1.1967 | avg loss: 1.1967 Dice Metric:   0.412\n",
      "epoch 76/200, step 1/1,  total step 76/200, training_loss = 1.1912 | avg loss: 1.1912 Dice Metric:   0.412\n",
      "epoch 77/200, step 1/1,  total step 77/200, training_loss = 1.1856 | avg loss: 1.1856 Dice Metric:   0.412\n",
      "epoch 78/200, step 1/1,  total step 78/200, training_loss = 1.1801 | avg loss: 1.1801 Dice Metric:   0.412\n",
      "epoch 79/200, step 1/1,  total step 79/200, training_loss = 1.1745 | avg loss: 1.1745 Dice Metric:   0.412\n",
      "epoch 80/200, step 1/1,  total step 80/200, training_loss = 1.1689 | avg loss: 1.1689 Dice Metric:   0.413\n",
      "epoch 81/200, step 1/1,  total step 81/200, training_loss = 1.1633 | avg loss: 1.1633 Dice Metric:    0.41\n",
      "epoch 82/200, step 1/1,  total step 82/200, training_loss = 1.1577 | avg loss: 1.1577 Dice Metric:    0.41\n",
      "epoch 83/200, step 1/1,  total step 83/200, training_loss = 1.1521 | avg loss: 1.1521 Dice Metric:   0.407\n",
      "epoch 84/200, step 1/1,  total step 84/200, training_loss = 1.1466 | avg loss: 1.1466 Dice Metric:   0.406\n",
      "epoch 85/200, step 1/1,  total step 85/200, training_loss = 1.1410 | avg loss: 1.1410 Dice Metric:   0.403\n",
      "epoch 86/200, step 1/1,  total step 86/200, training_loss = 1.1355 | avg loss: 1.1355 Dice Metric:   0.402\n",
      "epoch 87/200, step 1/1,  total step 87/200, training_loss = 1.1299 | avg loss: 1.1299 Dice Metric:   0.399\n",
      "epoch 88/200, step 1/1,  total step 88/200, training_loss = 1.1244 | avg loss: 1.1244 Dice Metric:     0.4\n",
      "epoch 89/200, step 1/1,  total step 89/200, training_loss = 1.1189 | avg loss: 1.1189 Dice Metric:   0.398\n",
      "epoch 90/200, step 1/1,  total step 90/200, training_loss = 1.1134 | avg loss: 1.1134 Dice Metric:   0.399\n",
      "epoch 91/200, step 1/1,  total step 91/200, training_loss = 1.1080 | avg loss: 1.1080 Dice Metric:   0.399\n",
      "epoch 92/200, step 1/1,  total step 92/200, training_loss = 1.1025 | avg loss: 1.1025 Dice Metric:   0.396\n",
      "epoch 93/200, step 1/1,  total step 93/200, training_loss = 1.0970 | avg loss: 1.0970 Dice Metric:   0.398\n",
      "epoch 94/200, step 1/1,  total step 94/200, training_loss = 1.0916 | avg loss: 1.0916 Dice Metric:   0.393\n",
      "epoch 95/200, step 1/1,  total step 95/200, training_loss = 1.0863 | avg loss: 1.0863 Dice Metric:   0.401\n",
      "epoch 96/200, step 1/1,  total step 96/200, training_loss = 1.0809 | avg loss: 1.0809 Dice Metric:   0.389\n",
      "epoch 97/200, step 1/1,  total step 97/200, training_loss = 1.0756 | avg loss: 1.0756 Dice Metric:   0.397\n",
      "epoch 98/200, step 1/1,  total step 98/200, training_loss = 1.0702 | avg loss: 1.0702 Dice Metric:   0.397\n",
      "epoch 99/200, step 1/1,  total step 99/200, training_loss = 1.0649 | avg loss: 1.0649 Dice Metric:   0.392\n",
      "epoch 100/200, step 1/1,  total step 100/200, training_loss = 1.0595 | avg loss: 1.0595 Dice Metric:   0.401\n",
      "epoch 101/200, step 1/1,  total step 101/200, training_loss = 1.0542 | avg loss: 1.0542 Dice Metric:   0.398\n",
      "epoch 102/200, step 1/1,  total step 102/200, training_loss = 1.0489 | avg loss: 1.0489 Dice Metric:   0.398\n",
      "epoch 103/200, step 1/1,  total step 103/200, training_loss = 1.0437 | avg loss: 1.0437 Dice Metric:   0.406\n",
      "epoch 104/200, step 1/1,  total step 104/200, training_loss = 1.0385 | avg loss: 1.0385 Dice Metric:   0.402\n",
      "epoch 105/200, step 1/1,  total step 105/200, training_loss = 1.0332 | avg loss: 1.0332 Dice Metric:   0.404\n",
      "epoch 106/200, step 1/1,  total step 106/200, training_loss = 1.0279 | avg loss: 1.0279 Dice Metric:   0.408\n",
      "epoch 107/200, step 1/1,  total step 107/200, training_loss = 1.0229 | avg loss: 1.0229 Dice Metric:   0.396\n",
      "epoch 108/200, step 1/1,  total step 108/200, training_loss = 1.0178 | avg loss: 1.0178 Dice Metric:   0.411\n",
      "epoch 109/200, step 1/1,  total step 109/200, training_loss = 1.0128 | avg loss: 1.0128 Dice Metric:   0.402\n",
      "epoch 110/200, step 1/1,  total step 110/200, training_loss = 1.0077 | avg loss: 1.0077 Dice Metric:   0.401\n",
      "epoch 111/200, step 1/1,  total step 111/200, training_loss = 1.0025 | avg loss: 1.0025 Dice Metric:    0.41\n",
      "epoch 112/200, step 1/1,  total step 112/200, training_loss = 0.9973 | avg loss: 0.9973 Dice Metric:   0.398\n",
      "epoch 113/200, step 1/1,  total step 113/200, training_loss = 0.9924 | avg loss: 0.9924 Dice Metric:   0.402\n",
      "epoch 114/200, step 1/1,  total step 114/200, training_loss = 0.9873 | avg loss: 0.9873 Dice Metric:   0.406\n",
      "epoch 115/200, step 1/1,  total step 115/200, training_loss = 0.9821 | avg loss: 0.9821 Dice Metric:   0.402\n",
      "epoch 116/200, step 1/1,  total step 116/200, training_loss = 0.9772 | avg loss: 0.9772 Dice Metric:   0.406\n",
      "epoch 117/200, step 1/1,  total step 117/200, training_loss = 0.9723 | avg loss: 0.9723 Dice Metric:   0.401\n",
      "epoch 118/200, step 1/1,  total step 118/200, training_loss = 0.9672 | avg loss: 0.9672 Dice Metric:   0.404\n",
      "epoch 119/200, step 1/1,  total step 119/200, training_loss = 0.9622 | avg loss: 0.9622 Dice Metric:     0.4\n",
      "epoch 120/200, step 1/1,  total step 120/200, training_loss = 0.9574 | avg loss: 0.9574 Dice Metric:   0.401\n",
      "epoch 121/200, step 1/1,  total step 121/200, training_loss = 0.9524 | avg loss: 0.9524 Dice Metric:   0.407\n",
      "epoch 122/200, step 1/1,  total step 122/200, training_loss = 0.9475 | avg loss: 0.9475 Dice Metric:   0.397\n",
      "epoch 123/200, step 1/1,  total step 123/200, training_loss = 0.9427 | avg loss: 0.9427 Dice Metric:   0.403\n",
      "epoch 124/200, step 1/1,  total step 124/200, training_loss = 0.9380 | avg loss: 0.9380 Dice Metric:   0.395\n",
      "epoch 125/200, step 1/1,  total step 125/200, training_loss = 0.9334 | avg loss: 0.9334 Dice Metric:     0.4\n",
      "epoch 126/200, step 1/1,  total step 126/200, training_loss = 0.9292 | avg loss: 0.9292 Dice Metric:   0.398\n",
      "epoch 127/200, step 1/1,  total step 127/200, training_loss = 0.9246 | avg loss: 0.9246 Dice Metric:   0.402\n",
      "epoch 128/200, step 1/1,  total step 128/200, training_loss = 0.9190 | avg loss: 0.9190 Dice Metric:   0.401\n",
      "epoch 129/200, step 1/1,  total step 129/200, training_loss = 0.9147 | avg loss: 0.9147 Dice Metric:   0.402\n",
      "epoch 130/200, step 1/1,  total step 130/200, training_loss = 0.9100 | avg loss: 0.9100 Dice Metric:   0.397\n",
      "epoch 131/200, step 1/1,  total step 131/200, training_loss = 0.9046 | avg loss: 0.9046 Dice Metric:   0.402\n",
      "epoch 132/200, step 1/1,  total step 132/200, training_loss = 0.9004 | avg loss: 0.9004 Dice Metric:   0.394\n",
      "epoch 133/200, step 1/1,  total step 133/200, training_loss = 0.8955 | avg loss: 0.8955 Dice Metric:   0.396\n",
      "epoch 134/200, step 1/1,  total step 134/200, training_loss = 0.8907 | avg loss: 0.8907 Dice Metric:     0.4\n",
      "epoch 135/200, step 1/1,  total step 135/200, training_loss = 0.8862 | avg loss: 0.8862 Dice Metric:   0.392\n",
      "epoch 136/200, step 1/1,  total step 136/200, training_loss = 0.8815 | avg loss: 0.8815 Dice Metric:     0.4\n",
      "epoch 137/200, step 1/1,  total step 137/200, training_loss = 0.8770 | avg loss: 0.8770 Dice Metric:   0.386\n",
      "epoch 138/200, step 1/1,  total step 138/200, training_loss = 0.8721 | avg loss: 0.8721 Dice Metric:   0.397\n",
      "epoch 139/200, step 1/1,  total step 139/200, training_loss = 0.8678 | avg loss: 0.8678 Dice Metric:   0.387\n",
      "epoch 140/200, step 1/1,  total step 140/200, training_loss = 0.8632 | avg loss: 0.8632 Dice Metric:   0.397\n",
      "epoch 141/200, step 1/1,  total step 141/200, training_loss = 0.8586 | avg loss: 0.8586 Dice Metric:   0.384\n",
      "epoch 142/200, step 1/1,  total step 142/200, training_loss = 0.8543 | avg loss: 0.8543 Dice Metric:   0.396\n",
      "epoch 143/200, step 1/1,  total step 143/200, training_loss = 0.8494 | avg loss: 0.8494 Dice Metric:   0.389\n",
      "epoch 144/200, step 1/1,  total step 144/200, training_loss = 0.8447 | avg loss: 0.8447 Dice Metric:   0.387\n",
      "epoch 145/200, step 1/1,  total step 145/200, training_loss = 0.8402 | avg loss: 0.8402 Dice Metric:   0.395\n",
      "epoch 146/200, step 1/1,  total step 146/200, training_loss = 0.8357 | avg loss: 0.8357 Dice Metric:   0.386\n",
      "epoch 147/200, step 1/1,  total step 147/200, training_loss = 0.8312 | avg loss: 0.8312 Dice Metric:   0.392\n",
      "epoch 148/200, step 1/1,  total step 148/200, training_loss = 0.8266 | avg loss: 0.8266 Dice Metric:   0.382\n",
      "epoch 149/200, step 1/1,  total step 149/200, training_loss = 0.8221 | avg loss: 0.8221 Dice Metric:   0.389\n",
      "epoch 150/200, step 1/1,  total step 150/200, training_loss = 0.8178 | avg loss: 0.8178 Dice Metric:   0.386\n",
      "epoch 151/200, step 1/1,  total step 151/200, training_loss = 0.8133 | avg loss: 0.8133 Dice Metric:   0.385\n",
      "epoch 152/200, step 1/1,  total step 152/200, training_loss = 0.8088 | avg loss: 0.8088 Dice Metric:   0.387\n",
      "epoch 153/200, step 1/1,  total step 153/200, training_loss = 0.8041 | avg loss: 0.8041 Dice Metric:   0.385\n",
      "epoch 154/200, step 1/1,  total step 154/200, training_loss = 0.7999 | avg loss: 0.7999 Dice Metric:   0.387\n",
      "epoch 155/200, step 1/1,  total step 155/200, training_loss = 0.7958 | avg loss: 0.7958 Dice Metric:   0.379\n",
      "epoch 156/200, step 1/1,  total step 156/200, training_loss = 0.7915 | avg loss: 0.7915 Dice Metric:   0.393\n",
      "epoch 157/200, step 1/1,  total step 157/200, training_loss = 0.7876 | avg loss: 0.7876 Dice Metric:   0.377\n",
      "epoch 158/200, step 1/1,  total step 158/200, training_loss = 0.7832 | avg loss: 0.7832 Dice Metric:   0.394\n",
      "epoch 159/200, step 1/1,  total step 159/200, training_loss = 0.7791 | avg loss: 0.7791 Dice Metric:   0.381\n",
      "epoch 160/200, step 1/1,  total step 160/200, training_loss = 0.7747 | avg loss: 0.7747 Dice Metric:   0.381\n",
      "epoch 161/200, step 1/1,  total step 161/200, training_loss = 0.7699 | avg loss: 0.7699 Dice Metric:   0.392\n",
      "epoch 162/200, step 1/1,  total step 162/200, training_loss = 0.7657 | avg loss: 0.7657 Dice Metric:   0.373\n",
      "epoch 163/200, step 1/1,  total step 163/200, training_loss = 0.7615 | avg loss: 0.7615 Dice Metric:   0.391\n",
      "epoch 164/200, step 1/1,  total step 164/200, training_loss = 0.7572 | avg loss: 0.7572 Dice Metric:    0.38\n",
      "epoch 165/200, step 1/1,  total step 165/200, training_loss = 0.7525 | avg loss: 0.7525 Dice Metric:   0.374\n",
      "epoch 166/200, step 1/1,  total step 166/200, training_loss = 0.7484 | avg loss: 0.7484 Dice Metric:   0.391\n",
      "epoch 167/200, step 1/1,  total step 167/200, training_loss = 0.7446 | avg loss: 0.7446 Dice Metric:   0.373\n",
      "epoch 168/200, step 1/1,  total step 168/200, training_loss = 0.7400 | avg loss: 0.7400 Dice Metric:   0.379\n",
      "epoch 169/200, step 1/1,  total step 169/200, training_loss = 0.7355 | avg loss: 0.7355 Dice Metric:   0.381\n",
      "epoch 170/200, step 1/1,  total step 170/200, training_loss = 0.7317 | avg loss: 0.7317 Dice Metric:   0.369\n",
      "epoch 171/200, step 1/1,  total step 171/200, training_loss = 0.7277 | avg loss: 0.7277 Dice Metric:   0.384\n",
      "epoch 172/200, step 1/1,  total step 172/200, training_loss = 0.7235 | avg loss: 0.7235 Dice Metric:   0.378\n",
      "epoch 173/200, step 1/1,  total step 173/200, training_loss = 0.7192 | avg loss: 0.7192 Dice Metric:   0.369\n",
      "epoch 174/200, step 1/1,  total step 174/200, training_loss = 0.7153 | avg loss: 0.7153 Dice Metric:   0.387\n",
      "epoch 175/200, step 1/1,  total step 175/200, training_loss = 0.7119 | avg loss: 0.7119 Dice Metric:   0.369\n",
      "epoch 176/200, step 1/1,  total step 176/200, training_loss = 0.7077 | avg loss: 0.7077 Dice Metric:   0.377\n",
      "epoch 177/200, step 1/1,  total step 177/200, training_loss = 0.7037 | avg loss: 0.7037 Dice Metric:   0.374\n",
      "epoch 178/200, step 1/1,  total step 178/200, training_loss = 0.7000 | avg loss: 0.7000 Dice Metric:    0.37\n",
      "epoch 179/200, step 1/1,  total step 179/200, training_loss = 0.6959 | avg loss: 0.6959 Dice Metric:   0.381\n",
      "epoch 180/200, step 1/1,  total step 180/200, training_loss = 0.6912 | avg loss: 0.6912 Dice Metric:   0.372\n",
      "epoch 181/200, step 1/1,  total step 181/200, training_loss = 0.6873 | avg loss: 0.6873 Dice Metric:   0.374\n",
      "epoch 182/200, step 1/1,  total step 182/200, training_loss = 0.6838 | avg loss: 0.6838 Dice Metric:   0.373\n",
      "epoch 183/200, step 1/1,  total step 183/200, training_loss = 0.6799 | avg loss: 0.6799 Dice Metric:   0.376\n",
      "epoch 184/200, step 1/1,  total step 184/200, training_loss = 0.6751 | avg loss: 0.6751 Dice Metric:   0.371\n",
      "epoch 185/200, step 1/1,  total step 185/200, training_loss = 0.6713 | avg loss: 0.6713 Dice Metric:   0.377\n",
      "epoch 186/200, step 1/1,  total step 186/200, training_loss = 0.6681 | avg loss: 0.6681 Dice Metric:   0.374\n",
      "epoch 187/200, step 1/1,  total step 187/200, training_loss = 0.6640 | avg loss: 0.6640 Dice Metric:   0.365\n",
      "epoch 188/200, step 1/1,  total step 188/200, training_loss = 0.6600 | avg loss: 0.6600 Dice Metric:   0.375\n",
      "epoch 189/200, step 1/1,  total step 189/200, training_loss = 0.6570 | avg loss: 0.6570 Dice Metric:   0.366\n",
      "epoch 190/200, step 1/1,  total step 190/200, training_loss = 0.6536 | avg loss: 0.6536 Dice Metric:   0.373\n",
      "epoch 191/200, step 1/1,  total step 191/200, training_loss = 0.6503 | avg loss: 0.6503 Dice Metric:   0.371\n",
      "epoch 192/200, step 1/1,  total step 192/200, training_loss = 0.6469 | avg loss: 0.6469 Dice Metric:   0.362\n",
      "epoch 193/200, step 1/1,  total step 193/200, training_loss = 0.6416 | avg loss: 0.6416 Dice Metric:   0.378\n",
      "epoch 194/200, step 1/1,  total step 194/200, training_loss = 0.6374 | avg loss: 0.6374 Dice Metric:   0.368\n",
      "epoch 195/200, step 1/1,  total step 195/200, training_loss = 0.6346 | avg loss: 0.6346 Dice Metric:   0.367\n",
      "epoch 196/200, step 1/1,  total step 196/200, training_loss = 0.6307 | avg loss: 0.6307 Dice Metric:   0.376\n",
      "epoch 197/200, step 1/1,  total step 197/200, training_loss = 0.6266 | avg loss: 0.6266 Dice Metric:   0.361\n",
      "epoch 198/200, step 1/1,  total step 198/200, training_loss = 0.6227 | avg loss: 0.6227 Dice Metric:   0.372\n",
      "epoch 199/200, step 1/1,  total step 199/200, training_loss = 0.6194 | avg loss: 0.6194 Dice Metric:   0.369\n",
      "epoch 200/200, step 1/1,  total step 200/200, training_loss = 0.6155 | avg loss: 0.6155 Dice Metric:   0.362"
     ]
    }
   ],
   "source": [
    "trainer.run()"
   ]
  },
  {
   "cell_type": "code",
   "execution_count": 33,
   "metadata": {},
   "outputs": [
    {
     "data": {
      "image/png": "[encoded data removed]",
      "text/plain": [
       "<Figure size 1440x432 with 2 Axes>"
      ]
     },
     "metadata": {
      "needs_background": "light"
     },
     "output_type": "display_data"
    }
   ],
   "source": [
    "import matplotlib.pyplot as plt\n",
    "fig, ax = plt.subplots(1, 2, figsize=(20, 6))\n",
    " \n",
    "ax[0].plot(epoch_loss_values)\n",
    "ax[0].set_title(\"epoch Loss\")\n",
    "ax[0].set_ylim(0,1)\n",
    "ax[1].plot(metric_values)\n",
    "ax[1].set_title(\"epoch matric\")\n",
    "ax[1].set_ylim(0,1)\n",
    "plt.show()"
   ]
  },
  {
   "cell_type": "code",
   "execution_count": null,
   "metadata": {},
   "outputs": [],
   "source": [
    "# BCE-Dice with \n",
    "# AutoEncoder( spatial_dims =2, in_channels=1, out_channels=1, \\\n",
    "#               channels=(4, 8, 16, 32),  strides=(2, 2, 2, 2), ) \n",
    "# 200epoch"
   ]
  },
  {
   "cell_type": "code",
   "execution_count": 34,
   "metadata": {},
   "outputs": [],
   "source": [
    "# Dice with \n",
    "# AutoEncoder( spatial_dims =2, in_channels=1, out_channels=1, \\\n",
    "#               channels=(4, 8, 16, 32),  strides=(2, 2, 2, 2), ) \n",
    "# 200epoch"
   ]
  },
  {
   "cell_type": "markdown",
   "metadata": {},
   "source": [
    "# repeat trials \n",
    "\n",
    "\n"
   ]
  },
  {
   "cell_type": "markdown",
   "metadata": {},
   "source": [
    "## Navigation\n",
    "- [01_getting started](./01_getting.ipynb)\n",
    "\n",
    "- [02_pipeline_01](./02_pipeline_01.ipynb)\n",
    "- [02_pipeline_02 ](./02_pipeline_02.ipynb)\n",
    "- [02_pipeline_03](./02_pipeline_03.ipynb)\n",
    "- [02_pipeline_04 Next ](./02_pipeline_04.ipynb)\n",
    "\n",
    "- [03_brain_gan ](./03_brain_gan_01.ipynb)\n",
    "\n",
    "- [04_spleen_segment](./04_spleen_segment.ipynb) \n",
    "\n",
    "- [05_challenge_cardiac baseline](./05_challenge_cardiac_baseline.ipynb) \n",
    "\n",
    "- [05_challenge_cardiac workspace](./05_challenge_cardiac_workspace.ipynb) \n",
    "\n",
    "<img src=\"https://github.com/Project-MONAI/MONAIBootcamp2021/raw/2f28b64f814a03703667c8ea18cc84f53d6795e4/day1/monai.png\" width=400>"
   ]
  }
 ],
 "metadata": {
  "accelerator": "GPU",
  "colab": {
   "collapsed_sections": [],
   "machine_shape": "hm",
   "name": "moani_bootcamp_2_2.ipynb",
   "provenance": []
  },
  "kernelspec": {
   "display_name": "Python 3 (ipykernel)",
   "language": "python",
   "name": "python3"
  },
  "language_info": {
   "codemirror_mode": {
    "name": "ipython",
    "version": 3
   },
   "file_extension": ".py",
   "mimetype": "text/x-python",
   "name": "python",
   "nbconvert_exporter": "python",
   "pygments_lexer": "ipython3",
   "version": "3.8.12"
  }
 },
 "nbformat": 4,
 "nbformat_minor": 4
}
