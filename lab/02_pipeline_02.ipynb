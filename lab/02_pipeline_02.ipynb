{
 "cells": [
  {
   "cell_type": "markdown",
   "metadata": {
    "id": "96ohkCyqZNaM"
   },
   "source": [
    "#  MONAI Bootcamp\n",
    "## End-To-End Workflow with MONAI part 2 ( Ignite for train script)\n",
    "\n",
    "\n",
    "## Ignite \n",
    "MONAI support Ignite and pytorch lightning to help with training and evaluating neural networks in PyTorch flexibly\n",
    "\n",
    "[Ignite](https://pytorch.org/ignite) is a high-level library to help with training and evaluating neural networks in PyTorch flexibly and transparently.\n",
    "\n",
    "<img src=\"https://raw.githubusercontent.com/pytorch/ignite/master/assets/tldr/pytorch-ignite-teaser.gif\" width=400>\n",
    "\n",
    "\n",
    "[pytorch lightning](https://www.pytorchlightning.ai/) is the deep learning framework for professional AI researchers and machine learning engineers who need maximal flexibility without sacrificing performance at scale.\n",
    "\n",
    "<img src=\"https://github.com/PyTorchLightning/pytorch-lightning/raw/master/docs/source/_static/images/general/pl_quick_start_full_compressed.gif\" width=1024>\n",
    "\n"
   ]
  },
  {
   "cell_type": "markdown",
   "metadata": {
    "id": "A_lPbckSZsAG"
   },
   "source": [
    "# same baseline End-to-end Training with Ignite\n",
    "We've covered a lot of material and now it's time to apply the things that we've learned in an end-to-end example. First, we're going to use the basic PyTorch paradigm for training our model. We'll then look at how to train using the Ignite workflows to make things even easier!\n",
    "\n",
    "## baseline  End-to-End Training Workflow\n",
    "To help guide you through training your first model using MONAI, this guide will will cover five key phases:\n",
    "\n",
    " 1. Setting up our Dataset and exploring the data\n",
    " 2. Preparing datasets and transforms\n",
    " 3. Define your network and create our PyTorch training loop [replace with ignite]\n",
    " 4. Evaluate your model and understand the results\n",
    " \n",
    "Let's get started by importing our dependencies."
   ]
  },
  {
   "cell_type": "code",
   "execution_count": 1,
   "metadata": {
    "id": "qg9upTKtVga-"
   },
   "outputs": [],
   "source": [
    "import os\n",
    "import shutil\n",
    "import tempfile\n",
    "\n",
    "import matplotlib.pyplot as plt\n",
    "import numpy as np\n",
    "import PIL\n",
    "\n",
    "import torch\n",
    "import monai\n",
    "\n",
    "from monai.apps import download_and_extract\n",
    "from monai.config import print_config\n",
    "from monai.metrics import ROCAUCMetric\n",
    "from monai.data import decollate_batch, partition_dataset_classes\n",
    "from monai.networks.nets import DenseNet121\n",
    "from monai.transforms import (\n",
    "    AddChannel,\n",
    "    Compose,\n",
    "    LoadImage,\n",
    "    RandFlip,\n",
    "    RandRotate,\n",
    "    RandZoom,\n",
    "    ScaleIntensity,\n",
    "    ToTensor,\n",
    "    Activations,\n",
    "    AsDiscrete,\n",
    "    EnsureType\n",
    ")\n",
    "from monai.utils import set_determinism"
   ]
  },
  {
   "cell_type": "markdown",
   "metadata": {},
   "source": [
    "before start, check current GPU memory with `nvidia-smi`"
   ]
  },
  {
   "cell_type": "code",
   "execution_count": 2,
   "metadata": {},
   "outputs": [
    {
     "name": "stdout",
     "output_type": "stream",
     "text": [
      "Sat Nov  5 02:59:50 2022       \n",
      "+-----------------------------------------------------------------------------+\n",
      "| NVIDIA-SMI 515.65.01    Driver Version: 515.65.01    CUDA Version: 11.7     |\n",
      "|-------------------------------+----------------------+----------------------+\n",
      "| GPU  Name        Persistence-M| Bus-Id        Disp.A | Volatile Uncorr. ECC |\n",
      "| Fan  Temp  Perf  Pwr:Usage/Cap|         Memory-Usage | GPU-Util  Compute M. |\n",
      "|                               |                      |               MIG M. |\n",
      "|===============================+======================+======================|\n",
      "|   0  NVIDIA A100-SXM...  On   | 00000000:87:00.0 Off |                   On |\n",
      "| N/A   34C    P0    61W / 400W |     39MiB / 81920MiB |     N/A      Default |\n",
      "|                               |                      |              Enabled |\n",
      "+-------------------------------+----------------------+----------------------+\n",
      "\n",
      "+-----------------------------------------------------------------------------+\n",
      "| MIG devices:                                                                |\n",
      "+------------------+----------------------+-----------+-----------------------+\n",
      "| GPU  GI  CI  MIG |         Memory-Usage |        Vol|         Shared        |\n",
      "|      ID  ID  Dev |           BAR1-Usage | SM     Unc| CE  ENC  DEC  OFA  JPG|\n",
      "|                  |                      |        ECC|                       |\n",
      "|==================+======================+===========+=======================|\n",
      "|  0    3   0   0  |     13MiB / 19968MiB | 28      0 |  2   0    1    0    0 |\n",
      "|                  |      0MiB / 32767MiB |           |                       |\n",
      "+------------------+----------------------+-----------+-----------------------+\n",
      "                                                                               \n",
      "+-----------------------------------------------------------------------------+\n",
      "| Processes:                                                                  |\n",
      "|  GPU   GI   CI        PID   Type   Process name                  GPU Memory |\n",
      "|        ID   ID                                                   Usage      |\n",
      "|=============================================================================|\n",
      "|  No running processes found                                                 |\n",
      "+-----------------------------------------------------------------------------+\n"
     ]
    }
   ],
   "source": [
    "!nvidia-smi "
   ]
  },
  {
   "cell_type": "markdown",
   "metadata": {
    "id": "DBZIJLrJZ1IQ"
   },
   "source": [
    "## 1. Setting up our Dataset and exploring the data\n",
    "#### Setup data directory\n",
    "\n",
    "We'll create a temporary directory for all the MONAI data we're going to be using called temp directory in `~/monai-lab/temp`. "
   ]
  },
  {
   "cell_type": "code",
   "execution_count": 3,
   "metadata": {
    "colab": {
     "base_uri": "https://localhost:8080/"
    },
    "id": "qOX-pVqQVo01",
    "outputId": "cc1d2154-c38c-459b-92c9-4b9263447b90"
   },
   "outputs": [
    {
     "name": "stdout",
     "output_type": "stream",
     "text": [
      "temp\n"
     ]
    }
   ],
   "source": [
    "import os \n",
    "directory = \"temp\"\n",
    "if not os.path.exists(directory):\n",
    "    os.makedirs(directory)\n",
    "root_dir = tempfile.mkdtemp() if directory is None else directory\n",
    "print(root_dir)"
   ]
  },
  {
   "cell_type": "markdown",
   "metadata": {
    "id": "MQQ26Fv9Z-xK"
   },
   "source": [
    "Download the MedNIST dataset\n",
    "The MedNIST dataset was gathered from several sets from [TCIA](https://wiki.cancerimagingarchive.net/display/Public/Data+Usage+Policies+and+Restrictions), [the RSNA Bone Age Challenge](http://rsnachallenges.cloudapp.net/competitions/4), and the [NIH Chest X-ray dataset](https://cloud.google.com/healthcare/docs/resources/public-datasets/nih-chest).\n",
    "\n",
    "The dataset is kindly made available by [Dr. Bradley J. Erickson M.D., Ph.D.](https://www.mayo.edu/research/labs/radiology-informatics/overview) (Department of Radiology, Mayo Clinic) under the Creative Commons CC BY-SA 4.0 license. If you use the MedNIST dataset, please acknowledge the source.\n",
    "\n",
    "We're going to download this dataset below and extract it into our temporary MONAI Data Directory.\n",
    "It will take about 1 minute"
   ]
  },
  {
   "cell_type": "code",
   "execution_count": 4,
   "metadata": {
    "colab": {
     "base_uri": "https://localhost:8080/"
    },
    "id": "6_yH3E2_VvX7",
    "outputId": "04200657-6aea-4747-ad99-efe377a0dce3"
   },
   "outputs": [
    {
     "name": "stdout",
     "output_type": "stream",
     "text": [
      "CPU times: user 156 µs, sys: 82 µs, total: 238 µs\n",
      "Wall time: 257 µs\n"
     ]
    }
   ],
   "source": [
    "%%time\n",
    "\n",
    "resource = \"https://www.dropbox.com/s/5wwskxctvcxiuea/MedNIST.tar.gz?dl=1\"\n",
    "md5 = \"0bc7306e7427e00ad1c5526a6677552d\"\n",
    "\n",
    "compressed_file = os.path.join(root_dir, \"MedNIST.tar.gz\")\n",
    "data_dir = os.path.join(root_dir, \"MedNIST\")\n",
    "if not os.path.exists(data_dir):\n",
    "    download_and_extract(resource, compressed_file, root_dir, md5)"
   ]
  },
  {
   "cell_type": "markdown",
   "metadata": {
    "id": "ccI6haMfaYSF"
   },
   "source": [
    "### Set deterministic training for reproducibility\n",
    "\n",
    "[`set_determinism`](https://docs.monai.io/en/latest/utils.html?highlight=set_determinism#monai.utils.misc.set_determinism) will set the random seeds in both Numpy and PyTorch to ensure reproducibility. We'll see later that we need to go a little bit further to ensure reproducibility in a jupyter notebook"
   ]
  },
  {
   "cell_type": "code",
   "execution_count": 5,
   "metadata": {
    "id": "EwYpFBImV1hJ"
   },
   "outputs": [],
   "source": [
    "set_determinism(seed=0)"
   ]
  },
  {
   "cell_type": "markdown",
   "metadata": {
    "id": "6uKHIr0Jaj2s"
   },
   "source": [
    "#### Read the image filenames from the dataset folders\n",
    "\n",
    "When using a dataset, you want to understand the basics of the images, labels, and more. We'll start off by showing some of those basic statistics for MedNIST.\n",
    "\n",
    "We'll see that 6 different folders are representing 6 different categories: Hand, AbdomenCT, CXR, ChestCT, BreastMRI, HeadCT. We'll be using each of these categories as our label names."
   ]
  },
  {
   "cell_type": "code",
   "execution_count": 6,
   "metadata": {
    "colab": {
     "base_uri": "https://localhost:8080/"
    },
    "id": "L4T6KV7lV1ng",
    "outputId": "933bcb83-46c1-472d-b5db-c0e786b816c3"
   },
   "outputs": [
    {
     "name": "stdout",
     "output_type": "stream",
     "text": [
      "Total image count: 58954\n",
      "Image dimensions: 64 x 64\n",
      "Label names: ['AbdomenCT', 'BreastMRI', 'CXR', 'ChestCT', 'Hand', 'HeadCT']\n",
      "number of Labels: 6\n",
      "Label counts: [10000, 8954, 10000, 10000, 10000, 10000]\n"
     ]
    }
   ],
   "source": [
    "class_names = sorted(x for x in os.listdir(data_dir) if os.path.isdir(os.path.join(data_dir, x)))\n",
    "num_class = len(class_names)\n",
    "\n",
    "image_files = [\n",
    "    [\n",
    "        os.path.join(data_dir, class_names[i], x)\n",
    "        for x in os.listdir(os.path.join(data_dir, class_names[i]))\n",
    "    ]\n",
    "    for i in range(num_class)\n",
    "]\n",
    "\n",
    "num_each = [len(image_files[i]) for i in range(num_class)]\n",
    "image_files_list = []\n",
    "image_class = []\n",
    "\n",
    "for i in range(num_class):\n",
    "    image_files_list.extend(image_files[i])\n",
    "    image_class.extend([i] * num_each[i])\n",
    "    \n",
    "num_total = len(image_class)\n",
    "image_width, image_height = PIL.Image.open(image_files_list[0]).size\n",
    "\n",
    "print(f\"Total image count: {num_total}\")\n",
    "print(f\"Image dimensions: {image_width} x {image_height}\")\n",
    "print(f\"Label names: {class_names}\")\n",
    "print(f\"number of Labels: {num_class}\")\n",
    "print(f\"Label counts: {num_each}\")"
   ]
  },
  {
   "cell_type": "markdown",
   "metadata": {
    "id": "Yx-WedqRWDbt"
   },
   "source": [
    "# 2. Preparing datasets and transforms\n",
    "### Prepare training, validation, and test data lists\n",
    "\n",
    "We want to split the data into 3 different sets, one for training, one for validation, and one for testing. We'll use a ratio of 80/10/10 for those sets."
   ]
  },
  {
   "cell_type": "code",
   "execution_count": 7,
   "metadata": {
    "colab": {
     "base_uri": "https://localhost:8080/"
    },
    "id": "vppWmX-BV1uN",
    "outputId": "74075068-0c62-4b37-8371-3cd0b9d0fa27"
   },
   "outputs": [
    {
     "name": "stdout",
     "output_type": "stream",
     "text": [
      "Training count: 46946, Validation count: 6022, Test count: 5986\n"
     ]
    }
   ],
   "source": [
    "val_frac = 0.1\n",
    "test_frac = 0.1\n",
    "train_x = list()\n",
    "train_y = list()\n",
    "val_x = list()\n",
    "val_y = list()\n",
    "test_x = list()\n",
    "test_y = list()\n",
    "\n",
    "for i in range(num_total):\n",
    "    rann = np.random.random()\n",
    "    if rann < val_frac:\n",
    "        val_x.append(image_files_list[i])\n",
    "        val_y.append(image_class[i])\n",
    "    elif rann < test_frac + val_frac:\n",
    "        test_x.append(image_files_list[i])\n",
    "        test_y.append(image_class[i])\n",
    "    else:\n",
    "        train_x.append(image_files_list[i])\n",
    "        train_y.append(image_class[i])\n",
    "\n",
    "print(f\"Training count: {len(train_x)}, Validation count: {len(val_x)}, Test count: {len(test_x)}\")"
   ]
  },
  {
   "cell_type": "markdown",
   "metadata": {
    "id": "CQKPHOjgWHoW"
   },
   "source": [
    "### Define MONAI transforms, Dataset and Dataloader to pre-process data\n",
    "\n",
    "We'll define our transform using `Compose`. In this Array of Transforms, we'll load the image, add a channel, scale its intensity, utilize a few random functions and finally create a tensor."
   ]
  },
  {
   "cell_type": "code",
   "execution_count": 8,
   "metadata": {
    "colab": {
     "base_uri": "https://localhost:8080/"
    },
    "id": "DaRvhLd-WTmF",
    "outputId": "619dac29-2ec4-4bb3-bf52-9bf49780c17e"
   },
   "outputs": [],
   "source": [
    "train_transforms = Compose(\n",
    "    [\n",
    "        LoadImage(image_only=True),\n",
    "        AddChannel(),\n",
    "        ScaleIntensity(),\n",
    "        RandRotate(range_x=15, prob=0.5, keep_size=True),\n",
    "        RandFlip(spatial_axis=0, prob=0.5),\n",
    "        RandZoom(min_zoom=0.9, max_zoom=1.1, prob=0.5),\n",
    "        ToTensor(),\n",
    "    ]\n",
    ")\n",
    "\n",
    "val_transforms = Compose([LoadImage(image_only=True), AddChannel(), ScaleIntensity(), ToTensor()])\n",
    "\n",
    "act = Compose([EnsureType(), Activations(softmax=True)])\n",
    "to_onehot = Compose([EnsureType(), AsDiscrete(to_onehot=num_class, n_classes=num_class)])"
   ]
  },
  {
   "cell_type": "markdown",
   "metadata": {
    "id": "7DeElxN0WcKt"
   },
   "source": [
    "### Initialise the datasets and loaders for training, validation and test sets\n",
    "- Define a simple dataset, that we'll call `MedNISTDataset`, that  groups:\n",
    "\n",
    " - Images\n",
    " - Labels\n",
    " - The transforms that are to be run on the images and labels\n",
    "- Create three instances of this dataset:\n",
    "  - One for training\n",
    "  - One for validation\n",
    "  - One for testing\n",
    "\n",
    "We'll use a batch size of 512 and employ 10 workers to load the data."
   ]
  },
  {
   "cell_type": "code",
   "execution_count": 9,
   "metadata": {
    "colab": {
     "base_uri": "https://localhost:8080/"
    },
    "id": "fag4Yd2CWTum",
    "outputId": "af0aca02-0916-4909-9da7-8a14f57c1a20"
   },
   "outputs": [
    {
     "name": "stderr",
     "output_type": "stream",
     "text": [
      "This DataLoader will create 10 worker processes in total. Our suggested max number of worker in current system is 4, which is smaller than what this DataLoader is going to create. Please be aware that excessive worker creation might get DataLoader running slow or even freeze, lower the worker number to avoid potential slowness/freeze if necessary.\n"
     ]
    }
   ],
   "source": [
    "batch_size = 512\n",
    "num_workers = 10\n",
    "\n",
    "class MedNISTDataset(torch.utils.data.Dataset):\n",
    "    def __init__(self, image_files, labels, transforms):\n",
    "        self.image_files = image_files\n",
    "        self.labels = labels\n",
    "        self.transforms = transforms\n",
    "\n",
    "    def __len__(self):\n",
    "        return len(self.image_files)\n",
    "\n",
    "    def __getitem__(self, index):\n",
    "        return self.transforms(self.image_files[index]), self.labels[index]\n",
    "\n",
    "\n",
    "train_ds = MedNISTDataset(train_x, train_y, train_transforms)\n",
    "train_loader = torch.utils.data.DataLoader(train_ds, batch_size=batch_size, shuffle=True, num_workers=num_workers)\n",
    "\n",
    "val_ds = MedNISTDataset(val_x, val_y, val_transforms)\n",
    "val_loader = torch.utils.data.DataLoader(val_ds, batch_size=batch_size, num_workers=num_workers)\n",
    "\n",
    "test_ds = MedNISTDataset(test_x, test_y, val_transforms)\n",
    "test_loader = torch.utils.data.DataLoader(test_ds, batch_size=batch_size, num_workers=num_workers)"
   ]
  },
  {
   "cell_type": "markdown",
   "metadata": {
    "id": "Df90U_QrW0i6"
   },
   "source": [
    "3. Define your network and create our PyTorch training loop\n",
    "Define network and optimizer\n",
    "Set learning_rate for how much the model is updated per step\n",
    "The fetch a pytorch device for the GPU\n",
    "Instantiate a `densenet121` model instance and 'send' it to the GPU using device\n",
    "This is a standard MONAI implementation; it is capable of 2D and 3D operation but here we are using it in 2D mode\n",
    "We'll make use of the Adam optimizer"
   ]
  },
  {
   "cell_type": "code",
   "execution_count": 10,
   "metadata": {
    "id": "B0Fxk7CNWTxg"
   },
   "outputs": [],
   "source": [
    "# Configure \n",
    "learning_rate = 1e-5\n",
    "device = torch.device(\"cuda:0\" if torch.cuda.is_available() else \"cpu\")\n",
    "net = DenseNet121(spatial_dims=2, in_channels=1, out_channels=num_class).to(device)\n",
    "loss_function = torch.nn.CrossEntropyLoss()\n",
    "optimizer = torch.optim.Adam(net.parameters(), learning_rate)"
   ]
  },
  {
   "cell_type": "markdown",
   "metadata": {
    "id": "KyIfXHW9W3rW"
   },
   "source": [
    "\n",
    "## Let's make some changes\n",
    "\n",
    "Everything that we have done so far uses MONAI with pytorch in a very vanilla fashion. The initial training / validation loop is written to show you the nuts and bolts of pytorch. Now let's explore starting the move towards Ignite and features of MONAI designed to work with it.\n",
    "\n",
    "### pytorch version \n",
    "Network training\n",
    "We are hand-rolling a basic pytorch training loop here:\n",
    "\n",
    "standard pytorch training loop\n",
    "step through each training epoch, running through the training set in batches\n",
    "after each epoch, run a validation pass, evaluating the network\n",
    "if it shows improved performance, save out the model weights\n",
    "\n",
    "### Ignite version \n",
    "training loops in a more Ignite \n",
    "\n",
    "<img src=\"https://github.com/Project-MONAI/MONAIBootcamp2021/raw/2f28b64f814a03703667c8ea18cc84f53d6795e4/day1/workflows.png\" width=600>\n",
    "\n",
    "\n"
   ]
  },
  {
   "cell_type": "code",
   "execution_count": 11,
   "metadata": {},
   "outputs": [],
   "source": [
    "# Configure \n",
    "learning_rate = 1e-5\n",
    "device = torch.device(\"cuda:0\" if torch.cuda.is_available() else \"cpu\")\n",
    "net = DenseNet121(spatial_dims=2, in_channels=1, out_channels=num_class).to(device)\n",
    "loss_function = torch.nn.CrossEntropyLoss()\n",
    "optimizer = torch.optim.Adam(net.parameters(), learning_rate)"
   ]
  },
  {
   "cell_type": "markdown",
   "metadata": {},
   "source": [
    "#### import ignite module"
   ]
  },
  {
   "cell_type": "code",
   "execution_count": 12,
   "metadata": {
    "id": "YATPDScKX8A4"
   },
   "outputs": [],
   "source": [
    "\n",
    "from ignite.engine import Events, create_supervised_evaluator, create_supervised_trainer\n",
    "from ignite.handlers import ModelCheckpoint\n",
    "from ignite.metrics import Accuracy\n",
    "from monai.handlers import ROCAUC\n"
   ]
  },
  {
   "cell_type": "markdown",
   "metadata": {},
   "source": [
    "#### configure ignite supervised traner"
   ]
  },
  {
   "cell_type": "code",
   "execution_count": 13,
   "metadata": {},
   "outputs": [],
   "source": [
    "\n",
    "step = 1\n",
    "iter_losses=[]\n",
    "batch_sizes=[]\n",
    "epoch_loss_values = []\n",
    "metric_values = []\n",
    "\n",
    "\n",
    "# Training\n",
    "\n",
    "# this trainer takes care of the training loop for us\n",
    "trainer = create_supervised_trainer(net, optimizer, loss_function, device, False)\n",
    "\n",
    "# calculate the number of steps per epoch up front\n",
    "steps_per_epoch = len(train_ds) // train_loader.batch_size\n",
    "if len(train_ds) % train_loader.batch_size != 0:\n",
    "    steps_per_epoch += 1\n",
    "\n"
   ]
  },
  {
   "cell_type": "markdown",
   "metadata": {},
   "source": [
    "#### configure training iteration"
   ]
  },
  {
   "cell_type": "code",
   "execution_count": 14,
   "metadata": {},
   "outputs": [],
   "source": [
    "# create a handler for recording the loss after each input. Improve upon our earlier example\n",
    "# by also recording the batch size, so we can perform a weighted average for the overall average\n",
    "# loss\n",
    "@trainer.on(Events.ITERATION_COMPLETED)\n",
    "def _end_iter(engine):\n",
    "    global step\n",
    "    loss = engine.state.output\n",
    "    batch_len = len(engine.state.batch[0])\n",
    "    epoch = engine.state.epoch\n",
    "    epoch_len = engine.state.max_epochs\n",
    "    iter_losses.append(loss)\n",
    "    batch_sizes.append(batch_len)\n",
    "    print(f'epoch {epoch}/{epoch_len}, step {step}/{steps_per_epoch}, training_loss = {loss:.4f}')    \n",
    "    step += 1\n",
    " "
   ]
  },
  {
   "cell_type": "markdown",
   "metadata": {},
   "source": [
    "#### configure validation iteration ( every epoch)"
   ]
  },
  {
   "cell_type": "code",
   "execution_count": 15,
   "metadata": {},
   "outputs": [],
   "source": [
    "   \n",
    "# Validation\n",
    "\n",
    "def roc_auc_trans(x):\n",
    "    return [act(i) for i in decollate_batch(x[0])], [to_onehot(i) for i in decollate_batch(x[1])]\n",
    "\n",
    "val_metrics = {\n",
    "    'accuracy': Accuracy(), \n",
    "    'rocauc': ROCAUC(output_transform=roc_auc_trans)\n",
    "}\n",
    "evaluator = create_supervised_evaluator(\n",
    "    net,\n",
    "    val_metrics,\n",
    "    device,\n",
    "    True\n",
    ")\n",
    "\n",
    "\n",
    "# validation is run every n training epochs in response to the trainer completing\n",
    "# an epoch. Here we use the decorator syntax to add a function that runs it to the\n",
    "# EPOCH_COMPLETED event\n",
    "@trainer.on(Events.EPOCH_COMPLETED)\n",
    "def run_validation(engine):\n",
    "    global step\n",
    "    evaluator.run(val_loader)\n",
    "\n",
    "    # the overall average loss must be weighted by batch size\n",
    "    overall_average_loss = np.average(iter_losses, weights=batch_sizes)\n",
    "    epoch_loss_values.append(overall_average_loss)\n",
    "\n",
    "    # clear the contents of iter_losses and batch_sizes for the next epoch\n",
    "    del iter_losses[:]\n",
    "    del batch_sizes[:]\n",
    "    \n",
    "    # fetch and report the validation metrics\n",
    "    acc = evaluator.state.metrics['accuracy']\n",
    "    roc = evaluator.state.metrics['rocauc']\n",
    "    metric_values.append(roc)\n",
    "    print(f\"evaluation for epoch {engine.state.epoch}, accuracy = {acc:.4f}, rocauc = {roc:.4f}\")\n",
    "\n",
    "    # reset step for the next epoch\n",
    "    step = 1\n",
    "    \n",
    "# create a checkpoint handler to save the network weights based on the area under the ROC curve\n",
    "# as before\n",
    "def _score(_):\n",
    "    return metric_values[-1]"
   ]
  },
  {
   "cell_type": "markdown",
   "metadata": {},
   "source": [
    "#### define ignite handler"
   ]
  },
  {
   "cell_type": "code",
   "execution_count": 16,
   "metadata": {
    "colab": {
     "base_uri": "https://localhost:8080/"
    },
    "id": "x8Z87xNvYMqy",
    "outputId": "1dec9ca5-c3a3-483c-d9b4-0fefcb1dc5b8"
   },
   "outputs": [
    {
     "data": {
      "text/plain": [
       "<ignite.engine.events.RemovableEventHandle at 0x7f42510adcd0>"
      ]
     },
     "execution_count": 16,
     "metadata": {},
     "output_type": "execute_result"
    }
   ],
   "source": [
    "# create a model checkpointer to save the network\n",
    "checkpoint_handler = ModelCheckpoint(root_dir, filename_prefix='mednist_model_best', score_name='',\n",
    "                                     n_saved=1, require_empty=False, score_function=_score)\n",
    "\n",
    "# handlers are attached to events in trainers and evaluators\n",
    "trainer.add_event_handler(event_name=Events.EPOCH_COMPLETED,\n",
    "                          handler=checkpoint_handler, to_save={'net': net})\n"
   ]
  },
  {
   "cell_type": "markdown",
   "metadata": {},
   "source": [
    " #### launch to train with ignite handler"
   ]
  },
  {
   "cell_type": "code",
   "execution_count": 17,
   "metadata": {
    "scrolled": true
   },
   "outputs": [
    {
     "name": "stdout",
     "output_type": "stream",
     "text": [
      "epoch 1/4, step 1/92, training_loss = 1.8205\n",
      "epoch 1/4, step 2/92, training_loss = 1.8131\n",
      "epoch 1/4, step 3/92, training_loss = 1.7762\n",
      "epoch 1/4, step 4/92, training_loss = 1.7806\n",
      "epoch 1/4, step 5/92, training_loss = 1.7447\n",
      "epoch 1/4, step 6/92, training_loss = 1.7143\n",
      "epoch 1/4, step 7/92, training_loss = 1.6714\n",
      "epoch 1/4, step 8/92, training_loss = 1.6403\n",
      "epoch 1/4, step 9/92, training_loss = 1.6156\n",
      "epoch 1/4, step 10/92, training_loss = 1.5947\n",
      "epoch 1/4, step 11/92, training_loss = 1.5956\n",
      "epoch 1/4, step 12/92, training_loss = 1.5560\n",
      "epoch 1/4, step 13/92, training_loss = 1.5335\n",
      "epoch 1/4, step 14/92, training_loss = 1.5247\n",
      "epoch 1/4, step 15/92, training_loss = 1.5000\n",
      "epoch 1/4, step 16/92, training_loss = 1.5057\n",
      "epoch 1/4, step 17/92, training_loss = 1.4657\n",
      "epoch 1/4, step 18/92, training_loss = 1.4111\n",
      "epoch 1/4, step 19/92, training_loss = 1.4354\n",
      "epoch 1/4, step 20/92, training_loss = 1.4037\n",
      "epoch 1/4, step 21/92, training_loss = 1.3897\n",
      "epoch 1/4, step 22/92, training_loss = 1.3369\n",
      "epoch 1/4, step 23/92, training_loss = 1.3478\n",
      "epoch 1/4, step 24/92, training_loss = 1.3161\n",
      "epoch 1/4, step 25/92, training_loss = 1.3234\n",
      "epoch 1/4, step 26/92, training_loss = 1.2695\n",
      "epoch 1/4, step 27/92, training_loss = 1.2899\n",
      "epoch 1/4, step 28/92, training_loss = 1.2256\n",
      "epoch 1/4, step 29/92, training_loss = 1.2375\n",
      "epoch 1/4, step 30/92, training_loss = 1.2054\n",
      "epoch 1/4, step 31/92, training_loss = 1.1820\n",
      "epoch 1/4, step 32/92, training_loss = 1.1744\n",
      "epoch 1/4, step 33/92, training_loss = 1.1737\n",
      "epoch 1/4, step 34/92, training_loss = 1.1415\n",
      "epoch 1/4, step 35/92, training_loss = 1.1684\n",
      "epoch 1/4, step 36/92, training_loss = 1.1193\n",
      "epoch 1/4, step 37/92, training_loss = 1.1197\n",
      "epoch 1/4, step 38/92, training_loss = 1.1268\n",
      "epoch 1/4, step 39/92, training_loss = 1.0865\n",
      "epoch 1/4, step 40/92, training_loss = 1.0681\n",
      "epoch 1/4, step 41/92, training_loss = 1.0748\n",
      "epoch 1/4, step 42/92, training_loss = 1.0714\n",
      "epoch 1/4, step 43/92, training_loss = 1.0273\n",
      "epoch 1/4, step 44/92, training_loss = 0.9969\n",
      "epoch 1/4, step 45/92, training_loss = 1.0096\n",
      "epoch 1/4, step 46/92, training_loss = 0.9981\n",
      "epoch 1/4, step 47/92, training_loss = 1.0073\n",
      "epoch 1/4, step 48/92, training_loss = 0.9529\n",
      "epoch 1/4, step 49/92, training_loss = 0.9517\n",
      "epoch 1/4, step 50/92, training_loss = 0.9471\n",
      "epoch 1/4, step 51/92, training_loss = 0.9343\n",
      "epoch 1/4, step 52/92, training_loss = 0.9581\n",
      "epoch 1/4, step 53/92, training_loss = 0.8781\n",
      "epoch 1/4, step 54/92, training_loss = 0.8898\n",
      "epoch 1/4, step 55/92, training_loss = 0.8854\n",
      "epoch 1/4, step 56/92, training_loss = 0.8838\n",
      "epoch 1/4, step 57/92, training_loss = 0.8614\n",
      "epoch 1/4, step 58/92, training_loss = 0.8572\n",
      "epoch 1/4, step 59/92, training_loss = 0.8195\n",
      "epoch 1/4, step 60/92, training_loss = 0.8213\n",
      "epoch 1/4, step 61/92, training_loss = 0.8240\n",
      "epoch 1/4, step 62/92, training_loss = 0.7943\n",
      "epoch 1/4, step 63/92, training_loss = 0.8099\n",
      "epoch 1/4, step 64/92, training_loss = 0.7677\n",
      "epoch 1/4, step 65/92, training_loss = 0.7539\n",
      "epoch 1/4, step 66/92, training_loss = 0.7438\n",
      "epoch 1/4, step 67/92, training_loss = 0.7568\n",
      "epoch 1/4, step 68/92, training_loss = 0.7558\n",
      "epoch 1/4, step 69/92, training_loss = 0.7021\n",
      "epoch 1/4, step 70/92, training_loss = 0.7238\n",
      "epoch 1/4, step 71/92, training_loss = 0.6984\n",
      "epoch 1/4, step 72/92, training_loss = 0.7037\n",
      "epoch 1/4, step 73/92, training_loss = 0.7110\n",
      "epoch 1/4, step 74/92, training_loss = 0.6952\n",
      "epoch 1/4, step 75/92, training_loss = 0.6909\n",
      "epoch 1/4, step 76/92, training_loss = 0.6763\n",
      "epoch 1/4, step 77/92, training_loss = 0.6773\n",
      "epoch 1/4, step 78/92, training_loss = 0.6580\n",
      "epoch 1/4, step 79/92, training_loss = 0.6132\n",
      "epoch 1/4, step 80/92, training_loss = 0.6657\n",
      "epoch 1/4, step 81/92, training_loss = 0.6378\n",
      "epoch 1/4, step 82/92, training_loss = 0.6168\n",
      "epoch 1/4, step 83/92, training_loss = 0.6105\n",
      "epoch 1/4, step 84/92, training_loss = 0.6193\n",
      "epoch 1/4, step 85/92, training_loss = 0.6229\n",
      "epoch 1/4, step 86/92, training_loss = 0.5957\n",
      "epoch 1/4, step 87/92, training_loss = 0.6249\n",
      "epoch 1/4, step 88/92, training_loss = 0.6076\n",
      "epoch 1/4, step 89/92, training_loss = 0.5740\n",
      "epoch 1/4, step 90/92, training_loss = 0.5525\n",
      "epoch 1/4, step 91/92, training_loss = 0.5508\n",
      "epoch 1/4, step 92/92, training_loss = 0.5821\n",
      "evaluation for epoch 1, accuracy = 0.9455, rocauc = 0.9942\n",
      "epoch 2/4, step 1/92, training_loss = 0.5678\n",
      "epoch 2/4, step 2/92, training_loss = 0.5516\n",
      "epoch 2/4, step 3/92, training_loss = 0.5272\n",
      "epoch 2/4, step 4/92, training_loss = 0.5257\n",
      "epoch 2/4, step 5/92, training_loss = 0.5256\n",
      "epoch 2/4, step 6/92, training_loss = 0.5297\n",
      "epoch 2/4, step 7/92, training_loss = 0.5039\n",
      "epoch 2/4, step 8/92, training_loss = 0.5188\n",
      "epoch 2/4, step 9/92, training_loss = 0.5045\n",
      "epoch 2/4, step 10/92, training_loss = 0.5005\n",
      "epoch 2/4, step 11/92, training_loss = 0.5044\n",
      "epoch 2/4, step 12/92, training_loss = 0.4775\n",
      "epoch 2/4, step 13/92, training_loss = 0.4591\n",
      "epoch 2/4, step 14/92, training_loss = 0.5041\n",
      "epoch 2/4, step 15/92, training_loss = 0.4742\n",
      "epoch 2/4, step 16/92, training_loss = 0.4903\n",
      "epoch 2/4, step 17/92, training_loss = 0.4430\n",
      "epoch 2/4, step 18/92, training_loss = 0.4671\n",
      "epoch 2/4, step 19/92, training_loss = 0.4703\n",
      "epoch 2/4, step 20/92, training_loss = 0.4568\n",
      "epoch 2/4, step 21/92, training_loss = 0.4356\n",
      "epoch 2/4, step 22/92, training_loss = 0.4169\n",
      "epoch 2/4, step 23/92, training_loss = 0.4164\n",
      "epoch 2/4, step 24/92, training_loss = 0.4034\n",
      "epoch 2/4, step 25/92, training_loss = 0.4088\n",
      "epoch 2/4, step 26/92, training_loss = 0.4101\n",
      "epoch 2/4, step 27/92, training_loss = 0.4050\n",
      "epoch 2/4, step 28/92, training_loss = 0.3921\n",
      "epoch 2/4, step 29/92, training_loss = 0.4082\n",
      "epoch 2/4, step 30/92, training_loss = 0.4225\n",
      "epoch 2/4, step 31/92, training_loss = 0.4065\n",
      "epoch 2/4, step 32/92, training_loss = 0.3674\n",
      "epoch 2/4, step 33/92, training_loss = 0.3947\n",
      "epoch 2/4, step 34/92, training_loss = 0.3609\n",
      "epoch 2/4, step 35/92, training_loss = 0.3572\n",
      "epoch 2/4, step 36/92, training_loss = 0.3621\n",
      "epoch 2/4, step 37/92, training_loss = 0.3784\n",
      "epoch 2/4, step 38/92, training_loss = 0.3814\n",
      "epoch 2/4, step 39/92, training_loss = 0.3783\n",
      "epoch 2/4, step 40/92, training_loss = 0.3919\n",
      "epoch 2/4, step 41/92, training_loss = 0.3590\n",
      "epoch 2/4, step 42/92, training_loss = 0.3759\n",
      "epoch 2/4, step 43/92, training_loss = 0.3545\n",
      "epoch 2/4, step 44/92, training_loss = 0.3692\n",
      "epoch 2/4, step 45/92, training_loss = 0.3435\n",
      "epoch 2/4, step 46/92, training_loss = 0.3885\n",
      "epoch 2/4, step 47/92, training_loss = 0.3537\n",
      "epoch 2/4, step 48/92, training_loss = 0.3144\n",
      "epoch 2/4, step 49/92, training_loss = 0.3251\n",
      "epoch 2/4, step 50/92, training_loss = 0.3130\n",
      "epoch 2/4, step 51/92, training_loss = 0.3255\n",
      "epoch 2/4, step 52/92, training_loss = 0.3166\n",
      "epoch 2/4, step 53/92, training_loss = 0.3188\n",
      "epoch 2/4, step 54/92, training_loss = 0.3318\n",
      "epoch 2/4, step 55/92, training_loss = 0.3164\n",
      "epoch 2/4, step 56/92, training_loss = 0.3182\n",
      "epoch 2/4, step 57/92, training_loss = 0.3085\n",
      "epoch 2/4, step 58/92, training_loss = 0.3296\n",
      "epoch 2/4, step 59/92, training_loss = 0.2975\n",
      "epoch 2/4, step 60/92, training_loss = 0.3193\n",
      "epoch 2/4, step 61/92, training_loss = 0.3011\n",
      "epoch 2/4, step 62/92, training_loss = 0.2967\n",
      "epoch 2/4, step 63/92, training_loss = 0.2712\n",
      "epoch 2/4, step 64/92, training_loss = 0.2979\n",
      "epoch 2/4, step 65/92, training_loss = 0.3131\n",
      "epoch 2/4, step 66/92, training_loss = 0.2860\n",
      "epoch 2/4, step 67/92, training_loss = 0.2871\n",
      "epoch 2/4, step 68/92, training_loss = 0.3008\n",
      "epoch 2/4, step 69/92, training_loss = 0.2746\n",
      "epoch 2/4, step 70/92, training_loss = 0.2814\n",
      "epoch 2/4, step 71/92, training_loss = 0.2554\n",
      "epoch 2/4, step 72/92, training_loss = 0.2624\n",
      "epoch 2/4, step 73/92, training_loss = 0.2563\n",
      "epoch 2/4, step 74/92, training_loss = 0.2332\n",
      "epoch 2/4, step 75/92, training_loss = 0.2617\n",
      "epoch 2/4, step 76/92, training_loss = 0.2650\n",
      "epoch 2/4, step 77/92, training_loss = 0.2770\n",
      "epoch 2/4, step 78/92, training_loss = 0.2686\n",
      "epoch 2/4, step 79/92, training_loss = 0.2352\n",
      "epoch 2/4, step 80/92, training_loss = 0.2757\n",
      "epoch 2/4, step 81/92, training_loss = 0.2640\n",
      "epoch 2/4, step 82/92, training_loss = 0.2737\n",
      "epoch 2/4, step 83/92, training_loss = 0.2454\n",
      "epoch 2/4, step 84/92, training_loss = 0.2489\n",
      "epoch 2/4, step 85/92, training_loss = 0.2549\n",
      "epoch 2/4, step 86/92, training_loss = 0.2617\n",
      "epoch 2/4, step 87/92, training_loss = 0.2539\n",
      "epoch 2/4, step 88/92, training_loss = 0.2553\n",
      "epoch 2/4, step 89/92, training_loss = 0.2528\n",
      "epoch 2/4, step 90/92, training_loss = 0.2545\n",
      "epoch 2/4, step 91/92, training_loss = 0.2265\n",
      "epoch 2/4, step 92/92, training_loss = 0.2555\n",
      "evaluation for epoch 2, accuracy = 0.9631, rocauc = 0.9986\n",
      "epoch 3/4, step 1/92, training_loss = 0.2358\n",
      "epoch 3/4, step 2/92, training_loss = 0.2563\n",
      "epoch 3/4, step 3/92, training_loss = 0.2091\n",
      "epoch 3/4, step 4/92, training_loss = 0.2508\n",
      "epoch 3/4, step 5/92, training_loss = 0.2117\n",
      "epoch 3/4, step 6/92, training_loss = 0.2024\n",
      "epoch 3/4, step 7/92, training_loss = 0.2535\n",
      "epoch 3/4, step 8/92, training_loss = 0.2351\n",
      "epoch 3/4, step 9/92, training_loss = 0.2062\n",
      "epoch 3/4, step 10/92, training_loss = 0.2198\n",
      "epoch 3/4, step 11/92, training_loss = 0.2094\n",
      "epoch 3/4, step 12/92, training_loss = 0.2207\n",
      "epoch 3/4, step 13/92, training_loss = 0.2167\n",
      "epoch 3/4, step 14/92, training_loss = 0.2086\n",
      "epoch 3/4, step 15/92, training_loss = 0.2094\n",
      "epoch 3/4, step 16/92, training_loss = 0.2013\n",
      "epoch 3/4, step 17/92, training_loss = 0.1917\n",
      "epoch 3/4, step 18/92, training_loss = 0.2417\n",
      "epoch 3/4, step 19/92, training_loss = 0.2109\n",
      "epoch 3/4, step 20/92, training_loss = 0.2035\n",
      "epoch 3/4, step 21/92, training_loss = 0.2076\n",
      "epoch 3/4, step 22/92, training_loss = 0.1850\n",
      "epoch 3/4, step 23/92, training_loss = 0.2044\n",
      "epoch 3/4, step 24/92, training_loss = 0.1909\n",
      "epoch 3/4, step 25/92, training_loss = 0.2173\n",
      "epoch 3/4, step 26/92, training_loss = 0.1894\n",
      "epoch 3/4, step 27/92, training_loss = 0.1768\n",
      "epoch 3/4, step 28/92, training_loss = 0.1761\n",
      "epoch 3/4, step 29/92, training_loss = 0.1794\n",
      "epoch 3/4, step 30/92, training_loss = 0.1693\n",
      "epoch 3/4, step 31/92, training_loss = 0.1878\n",
      "epoch 3/4, step 32/92, training_loss = 0.1995\n",
      "epoch 3/4, step 33/92, training_loss = 0.2120\n",
      "epoch 3/4, step 34/92, training_loss = 0.1793\n",
      "epoch 3/4, step 35/92, training_loss = 0.1769\n",
      "epoch 3/4, step 36/92, training_loss = 0.1782\n",
      "epoch 3/4, step 37/92, training_loss = 0.1642\n",
      "epoch 3/4, step 38/92, training_loss = 0.1563\n",
      "epoch 3/4, step 39/92, training_loss = 0.1763\n",
      "epoch 3/4, step 40/92, training_loss = 0.1951\n",
      "epoch 3/4, step 41/92, training_loss = 0.1789\n",
      "epoch 3/4, step 42/92, training_loss = 0.1925\n",
      "epoch 3/4, step 43/92, training_loss = 0.1784\n",
      "epoch 3/4, step 44/92, training_loss = 0.1782\n",
      "epoch 3/4, step 45/92, training_loss = 0.1512\n",
      "epoch 3/4, step 46/92, training_loss = 0.1708\n",
      "epoch 3/4, step 47/92, training_loss = 0.1651\n",
      "epoch 3/4, step 48/92, training_loss = 0.1714\n",
      "epoch 3/4, step 49/92, training_loss = 0.1751\n",
      "epoch 3/4, step 50/92, training_loss = 0.1700\n",
      "epoch 3/4, step 51/92, training_loss = 0.1518\n",
      "epoch 3/4, step 52/92, training_loss = 0.1548\n",
      "epoch 3/4, step 53/92, training_loss = 0.1334\n",
      "epoch 3/4, step 54/92, training_loss = 0.1506\n",
      "epoch 3/4, step 55/92, training_loss = 0.1926\n",
      "epoch 3/4, step 56/92, training_loss = 0.1680\n",
      "epoch 3/4, step 57/92, training_loss = 0.1676\n",
      "epoch 3/4, step 58/92, training_loss = 0.1615\n",
      "epoch 3/4, step 59/92, training_loss = 0.1628\n",
      "epoch 3/4, step 60/92, training_loss = 0.1769\n",
      "epoch 3/4, step 61/92, training_loss = 0.1617\n",
      "epoch 3/4, step 62/92, training_loss = 0.1631\n",
      "epoch 3/4, step 63/92, training_loss = 0.1599\n",
      "epoch 3/4, step 64/92, training_loss = 0.1565\n",
      "epoch 3/4, step 65/92, training_loss = 0.1676\n",
      "epoch 3/4, step 66/92, training_loss = 0.1500\n",
      "epoch 3/4, step 67/92, training_loss = 0.1386\n",
      "epoch 3/4, step 68/92, training_loss = 0.1531\n",
      "epoch 3/4, step 69/92, training_loss = 0.1818\n",
      "epoch 3/4, step 70/92, training_loss = 0.1482\n",
      "epoch 3/4, step 71/92, training_loss = 0.1492\n",
      "epoch 3/4, step 72/92, training_loss = 0.1393\n",
      "epoch 3/4, step 73/92, training_loss = 0.1373\n",
      "epoch 3/4, step 74/92, training_loss = 0.1547\n",
      "epoch 3/4, step 75/92, training_loss = 0.1496\n",
      "epoch 3/4, step 76/92, training_loss = 0.1333\n",
      "epoch 3/4, step 77/92, training_loss = 0.1339\n",
      "epoch 3/4, step 78/92, training_loss = 0.1317\n",
      "epoch 3/4, step 79/92, training_loss = 0.1513\n",
      "epoch 3/4, step 80/92, training_loss = 0.1427\n",
      "epoch 3/4, step 81/92, training_loss = 0.1477\n",
      "epoch 3/4, step 82/92, training_loss = 0.1279\n",
      "epoch 3/4, step 83/92, training_loss = 0.1399\n",
      "epoch 3/4, step 84/92, training_loss = 0.1316\n",
      "epoch 3/4, step 85/92, training_loss = 0.1393\n",
      "epoch 3/4, step 86/92, training_loss = 0.1420\n",
      "epoch 3/4, step 87/92, training_loss = 0.1446\n",
      "epoch 3/4, step 88/92, training_loss = 0.1508\n",
      "epoch 3/4, step 89/92, training_loss = 0.1351\n",
      "epoch 3/4, step 90/92, training_loss = 0.1330\n",
      "epoch 3/4, step 91/92, training_loss = 0.1288\n",
      "epoch 3/4, step 92/92, training_loss = 0.1292\n",
      "evaluation for epoch 3, accuracy = 0.9811, rocauc = 0.9996\n",
      "epoch 4/4, step 1/92, training_loss = 0.1554\n",
      "epoch 4/4, step 2/92, training_loss = 0.1653\n",
      "epoch 4/4, step 3/92, training_loss = 0.1243\n",
      "epoch 4/4, step 4/92, training_loss = 0.1291\n",
      "epoch 4/4, step 5/92, training_loss = 0.1819\n",
      "epoch 4/4, step 6/92, training_loss = 0.1174\n",
      "epoch 4/4, step 7/92, training_loss = 0.1245\n",
      "epoch 4/4, step 8/92, training_loss = 0.1465\n",
      "epoch 4/4, step 9/92, training_loss = 0.1212\n",
      "epoch 4/4, step 10/92, training_loss = 0.1181\n",
      "epoch 4/4, step 11/92, training_loss = 0.1208\n",
      "epoch 4/4, step 12/92, training_loss = 0.1254\n",
      "epoch 4/4, step 13/92, training_loss = 0.1108\n",
      "epoch 4/4, step 14/92, training_loss = 0.1097\n",
      "epoch 4/4, step 15/92, training_loss = 0.1450\n",
      "epoch 4/4, step 16/92, training_loss = 0.1152\n",
      "epoch 4/4, step 17/92, training_loss = 0.1318\n",
      "epoch 4/4, step 18/92, training_loss = 0.1170\n",
      "epoch 4/4, step 19/92, training_loss = 0.1282\n",
      "epoch 4/4, step 20/92, training_loss = 0.1107\n",
      "epoch 4/4, step 21/92, training_loss = 0.1229\n",
      "epoch 4/4, step 22/92, training_loss = 0.1108\n",
      "epoch 4/4, step 23/92, training_loss = 0.1203\n",
      "epoch 4/4, step 24/92, training_loss = 0.1050\n",
      "epoch 4/4, step 25/92, training_loss = 0.1010\n",
      "epoch 4/4, step 26/92, training_loss = 0.1157\n",
      "epoch 4/4, step 27/92, training_loss = 0.1050\n",
      "epoch 4/4, step 28/92, training_loss = 0.1054\n",
      "epoch 4/4, step 29/92, training_loss = 0.1043\n",
      "epoch 4/4, step 30/92, training_loss = 0.1009\n",
      "epoch 4/4, step 31/92, training_loss = 0.1201\n",
      "epoch 4/4, step 32/92, training_loss = 0.0869\n",
      "epoch 4/4, step 33/92, training_loss = 0.0972\n",
      "epoch 4/4, step 34/92, training_loss = 0.1093\n",
      "epoch 4/4, step 35/92, training_loss = 0.1222\n",
      "epoch 4/4, step 36/92, training_loss = 0.1034\n",
      "epoch 4/4, step 37/92, training_loss = 0.1129\n",
      "epoch 4/4, step 38/92, training_loss = 0.1056\n",
      "epoch 4/4, step 39/92, training_loss = 0.1060\n",
      "epoch 4/4, step 40/92, training_loss = 0.1196\n",
      "epoch 4/4, step 41/92, training_loss = 0.0924\n",
      "epoch 4/4, step 42/92, training_loss = 0.1080\n",
      "epoch 4/4, step 43/92, training_loss = 0.1326\n",
      "epoch 4/4, step 44/92, training_loss = 0.1082\n",
      "epoch 4/4, step 45/92, training_loss = 0.1040\n",
      "epoch 4/4, step 46/92, training_loss = 0.0929\n",
      "epoch 4/4, step 47/92, training_loss = 0.0877\n",
      "epoch 4/4, step 48/92, training_loss = 0.1092\n",
      "epoch 4/4, step 49/92, training_loss = 0.1136\n",
      "epoch 4/4, step 50/92, training_loss = 0.1207\n",
      "epoch 4/4, step 51/92, training_loss = 0.1162\n",
      "epoch 4/4, step 52/92, training_loss = 0.0991\n",
      "epoch 4/4, step 53/92, training_loss = 0.1015\n",
      "epoch 4/4, step 54/92, training_loss = 0.0855\n",
      "epoch 4/4, step 55/92, training_loss = 0.1073\n",
      "epoch 4/4, step 56/92, training_loss = 0.0733\n",
      "epoch 4/4, step 57/92, training_loss = 0.1038\n",
      "epoch 4/4, step 58/92, training_loss = 0.0979\n",
      "epoch 4/4, step 59/92, training_loss = 0.0991\n",
      "epoch 4/4, step 60/92, training_loss = 0.0994\n",
      "epoch 4/4, step 61/92, training_loss = 0.0871\n",
      "epoch 4/4, step 62/92, training_loss = 0.0846\n",
      "epoch 4/4, step 63/92, training_loss = 0.1077\n",
      "epoch 4/4, step 64/92, training_loss = 0.0885\n",
      "epoch 4/4, step 65/92, training_loss = 0.1027\n",
      "epoch 4/4, step 66/92, training_loss = 0.0775\n",
      "epoch 4/4, step 67/92, training_loss = 0.1059\n",
      "epoch 4/4, step 68/92, training_loss = 0.0994\n",
      "epoch 4/4, step 69/92, training_loss = 0.0972\n",
      "epoch 4/4, step 70/92, training_loss = 0.0879\n",
      "epoch 4/4, step 71/92, training_loss = 0.0949\n",
      "epoch 4/4, step 72/92, training_loss = 0.0930\n",
      "epoch 4/4, step 73/92, training_loss = 0.0816\n",
      "epoch 4/4, step 74/92, training_loss = 0.1046\n",
      "epoch 4/4, step 75/92, training_loss = 0.0745\n",
      "epoch 4/4, step 76/92, training_loss = 0.1071\n",
      "epoch 4/4, step 77/92, training_loss = 0.1197\n",
      "epoch 4/4, step 78/92, training_loss = 0.0964\n",
      "epoch 4/4, step 79/92, training_loss = 0.0905\n",
      "epoch 4/4, step 80/92, training_loss = 0.0769\n",
      "epoch 4/4, step 81/92, training_loss = 0.0963\n",
      "epoch 4/4, step 82/92, training_loss = 0.0804\n",
      "epoch 4/4, step 83/92, training_loss = 0.1039\n",
      "epoch 4/4, step 84/92, training_loss = 0.1025\n",
      "epoch 4/4, step 85/92, training_loss = 0.0852\n",
      "epoch 4/4, step 86/92, training_loss = 0.0770\n",
      "epoch 4/4, step 87/92, training_loss = 0.0785\n",
      "epoch 4/4, step 88/92, training_loss = 0.0871\n",
      "epoch 4/4, step 89/92, training_loss = 0.0981\n",
      "epoch 4/4, step 90/92, training_loss = 0.0878\n",
      "epoch 4/4, step 91/92, training_loss = 0.0763\n",
      "epoch 4/4, step 92/92, training_loss = 0.0941\n",
      "evaluation for epoch 4, accuracy = 0.9877, rocauc = 0.9998\n",
      "train completed, best_metric: 0.9998 at epoch: 3\n",
      "CPU times: user 2min 40s, sys: 27.6 s, total: 3min 8s\n",
      "Wall time: 9min 28s\n"
     ]
    }
   ],
   "source": [
    "%%time \n",
    "# train (and evaluate) the network, Ignite-style!\n",
    "train_epochs = 4\n",
    "state = trainer.run(train_loader, train_epochs)\n",
    "\n",
    "best_rocauc = max(metric_values)\n",
    "print(f\"train completed, best_metric: {best_rocauc:.4f} at epoch: {metric_values.index(best_rocauc)}\")"
   ]
  },
  {
   "cell_type": "markdown",
   "metadata": {},
   "source": [
    "### Plot the loss and metric\n",
    "Once we're done training we want to visualize our Loss and Accuracy."
   ]
  },
  {
   "cell_type": "code",
   "execution_count": 18,
   "metadata": {
    "colab": {
     "base_uri": "https://localhost:8080/",
     "height": 404
    },
    "id": "wU9U-gVkbzg-",
    "outputId": "d8af376d-9f88-4d1a-a761-8c4e0964ef78"
   },
   "outputs": [
    {
     "data": {
      "image/png": "[encoded data removed]",
      "text/plain": [
       "<Figure size 864x432 with 2 Axes>"
      ]
     },
     "metadata": {
      "needs_background": "light"
     },
     "output_type": "display_data"
    }
   ],
   "source": [
    "plt.figure(\"train\", (12, 6))\n",
    "plt.subplot(1, 2, 1)\n",
    "plt.title(\"Epoch Average Loss\")\n",
    "x = [i + 1 for i in range(len(epoch_loss_values))]\n",
    "y = epoch_loss_values\n",
    "plt.xlabel(\"epoch\")\n",
    "plt.plot(x, y)\n",
    "plt.subplot(1, 2, 2)\n",
    "plt.title(\"Val AUC\")\n",
    "x = [(i + 1) for i in range(len(metric_values))]\n",
    "y = metric_values\n",
    "plt.xlabel(\"epoch\")\n",
    "plt.plot(x, y)\n",
    "plt.show()"
   ]
  },
  {
   "cell_type": "markdown",
   "metadata": {},
   "source": [
    "##  Evaluate your model and understand the results\n",
    "### Evaluate the model on the test dataset\n",
    "\n",
    "After training and validation, we now have the best model as determined by the validation dataset. But now we need to evaluate the model on the test dataset to check whether the final model is robust and not over-fitting. We'll use these predictions to generate a classification report."
   ]
  },
  {
   "cell_type": "code",
   "execution_count": 19,
   "metadata": {
    "colab": {
     "base_uri": "https://localhost:8080/"
    },
    "id": "7V-xt-w8cXvp",
    "outputId": "0f8d7a44-62fd-4c03-aeb7-ea44195892e1"
   },
   "outputs": [],
   "source": [
    "net.load_state_dict(torch.load(os.path.join(root_dir, \"mednist_model_best.pth\")))\n",
    "net.eval()\n",
    "y_true = list()\n",
    "y_pred = list()\n",
    "\n",
    "with torch.no_grad():\n",
    "    for test_data in test_loader:\n",
    "        test_images, test_labels = (\n",
    "            test_data[0].to(device),\n",
    "            test_data[1].to(device),\n",
    "        )\n",
    "        pred = net(test_images).argmax(dim=1)\n",
    "        \n",
    "        for i in range(len(pred)):\n",
    "            y_true.append(test_labels[i].item())\n",
    "            y_pred.append(pred[i].item())"
   ]
  },
  {
   "cell_type": "markdown",
   "metadata": {},
   "source": [
    "### Some light analytics - classification report\n",
    "\n",
    "We'll utilize scikit-learn's classification report to get the precision, recall, and f1-score for each category."
   ]
  },
  {
   "cell_type": "code",
   "execution_count": 20,
   "metadata": {
    "colab": {
     "base_uri": "https://localhost:8080/"
    },
    "id": "S4yunihWcbZo",
    "outputId": "3175d8de-3708-4791-82bc-e52f2011ee0f"
   },
   "outputs": [
    {
     "name": "stdout",
     "output_type": "stream",
     "text": [
      "              precision    recall  f1-score   support\n",
      "\n",
      "   AbdomenCT     0.9883    0.9779    0.9831      1039\n",
      "   BreastMRI     0.9923    0.9890    0.9906       910\n",
      "         CXR     0.9949    0.9889    0.9919       987\n",
      "     ChestCT     0.9866    1.0000    0.9933      1033\n",
      "        Hand     0.9896    0.9835    0.9865       967\n",
      "      HeadCT     0.9831    0.9943    0.9886      1050\n",
      "\n",
      "    accuracy                         0.9890      5986\n",
      "   macro avg     0.9891    0.9889    0.9890      5986\n",
      "weighted avg     0.9890    0.9890    0.9890      5986\n",
      "\n"
     ]
    }
   ],
   "source": [
    "from sklearn.metrics import classification_report\n",
    "print(classification_report(y_true, y_pred, target_names=class_names, digits=4))"
   ]
  },
  {
   "cell_type": "markdown",
   "metadata": {},
   "source": [
    "### Some light analytics - confusion matrix\n",
    "\n",
    "Let's also create a confusion matrix to get a better understanding of the failure cases"
   ]
  },
  {
   "cell_type": "code",
   "execution_count": 21,
   "metadata": {
    "colab": {
     "base_uri": "https://localhost:8080/",
     "height": 322
    },
    "id": "Q0pDrlA2cfZx",
    "outputId": "3d36b18c-ee50-4d6c-d8c5-ee056b165110"
   },
   "outputs": [
    {
     "name": "stderr",
     "output_type": "stream",
     "text": [
      "FixedFormatter should only be used together with FixedLocator\n",
      "FixedFormatter should only be used together with FixedLocator\n"
     ]
    },
    {
     "data": {
      "image/png": "[encoded data removed]",
      "text/plain": [
       "<Figure size 432x288 with 2 Axes>"
      ]
     },
     "metadata": {
      "needs_background": "light"
     },
     "output_type": "display_data"
    }
   ],
   "source": [
    "from sklearn.metrics import confusion_matrix\n",
    "cmat = confusion_matrix(y_true, y_pred)\n",
    "fig = plt.figure()\n",
    "ax = fig.add_subplot(111)\n",
    "cax = ax.matshow(confusion_matrix(y_true, y_pred), cmap=\"terrain\", interpolation='nearest')\n",
    "fig.colorbar(cax)\n",
    "\n",
    "ax.set_xticklabels(['']+class_names, rotation=270)\n",
    "ax.set_yticklabels(['']+class_names)\n",
    "\n",
    "plt.show()"
   ]
  },
  {
   "cell_type": "markdown",
   "metadata": {},
   "source": [
    "## Caution !!!\n",
    "### please shutdown all kernels with [Kernel] menu >  [Shutdown All Kernel]  before launch next notebook\n",
    "\n",
    "## Navigation\n",
    "- [01_getting started](./01_getting.ipynb)\n",
    "\n",
    "- [02_pipeline_01](./02_pipeline_01.ipynb)\n",
    "- [02_pipeline_02 ](./02_pipeline_02.ipynb)\n",
    "- [02_pipeline_03 Next ](./02_pipeline_03.ipynb)\n",
    "- [02_pipeline_04](./02_pipeline_04.ipynb)\n",
    "\n",
    "- [03_brain_gan ](./03_brain_gan_01.ipynb)\n",
    "\n",
    "- [04_spleen_segment](./04_spleen_segment.ipynb) \n",
    "\n",
    "- [05_challenge_cardiac baseline](./05_challenge_cardiac_baseline.ipynb) \n",
    "\n",
    "- [05_challenge_cardiac workspace](./05_challenge_cardiac_workspace.ipynb) \n",
    "\n",
    "<img src=\"https://github.com/Project-MONAI/MONAIBootcamp2021/raw/2f28b64f814a03703667c8ea18cc84f53d6795e4/day1/monai.png\" width=400>"
   ]
  }
 ],
 "metadata": {
  "accelerator": "GPU",
  "colab": {
   "machine_shape": "hm",
   "name": "Monai_bootcamp_01_03.ipynb",
   "provenance": []
  },
  "kernelspec": {
   "display_name": "Python 3 (ipykernel)",
   "language": "python",
   "name": "python3"
  },
  "language_info": {
   "codemirror_mode": {
    "name": "ipython",
    "version": 3
   },
   "file_extension": ".py",
   "mimetype": "text/x-python",
   "name": "python",
   "nbconvert_exporter": "python",
   "pygments_lexer": "ipython3",
   "version": "3.8.12"
  }
 },
 "nbformat": 4,
 "nbformat_minor": 4
}
